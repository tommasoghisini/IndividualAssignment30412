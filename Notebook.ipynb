{
  "nbformat": 4,
  "nbformat_minor": 0,
  "metadata": {
    "colab": {
      "name": "Notebook.ipynb",
      "provenance": [],
      "collapsed_sections": [],
      "mount_file_id": "1ruKQrBEiHM0IhnOACRh3PNstzDsqWJwS",
      "authorship_tag": "ABX9TyO9bOuX+hnN+5wezzAjkGey",
      "include_colab_link": true
    },
    "kernelspec": {
      "name": "python3",
      "display_name": "Python 3"
    },
    "language_info": {
      "name": "python"
    }
  },
  "cells": [
    {
      "cell_type": "markdown",
      "metadata": {
        "id": "view-in-github",
        "colab_type": "text"
      },
      "source": [
        "<a href=\"https://colab.research.google.com/github/tommasoghisini/IndividualAssignment30412/blob/main/Notebook.ipynb\" target=\"_parent\"><img src=\"https://colab.research.google.com/assets/colab-badge.svg\" alt=\"Open In Colab\"/></a>"
      ]
    },
    {
      "cell_type": "markdown",
      "metadata": {
        "id": "5Wnm8CPXxqnI"
      },
      "source": [
        "# Individual Assignments - BEMACS 30412"
      ]
    },
    {
      "cell_type": "markdown",
      "metadata": {
        "id": "uPiTigKDyQyn"
      },
      "source": [
        "### Task Description"
      ]
    },
    {
      "cell_type": "markdown",
      "metadata": {
        "id": "Ocu8wUYnDg1Q"
      },
      "source": [
        "This dataset is composed of 1300 samples with 31 features each. The first column\n",
        "is the sample id. The second column in the dataset represents the label. There\n",
        "are 4 possible values for the labels. The remaining columns are numeric\n",
        "features, except for the last column which is categorical (with 3 categories).\n",
        "\n",
        "Notice that the classes are unbalanced: some labels are more frequent than\n",
        "others. You need to decide whether to take this into account, and if so how.\n",
        "\n",
        "Your task is the following: you should compare the performance of Logistic\n",
        "Regression (implemented by `sklearn.linear_model.LogisticRegression`) with that of\n",
        "a Random Forest (implemented by `sklearn.ensemble.RandomForestClassifier`). Try to\n",
        "optimize both algorithms' parameters and determine which one is best for this\n",
        "dataset. At the end of the analysis, you should have chosen an algorithm and its\n",
        "optimal set of parameters: write this choice explicitly in the conclusions of\n",
        "your notebook.\n",
        "\n",
        "Your notebook should detail the procedure you have used to choose the optimal\n",
        "parameters (graphs are a good idea when possible/sensible).\n",
        "\n",
        "The notebook will be evaluated not only based on the final results, but also on\n",
        "the procedure employed, which should balance practical considerations (one may\n",
        "not be able to exhaustively explore all possible combinations of the parameters)\n",
        "with the desire for achieving the best possible performance in the least amount\n",
        "of time.\n",
        "\n",
        "Bonus points may be assigned for particularly clean/nifty code and/or well-\n",
        "presented results.\n",
        "\n",
        "You are also free to attempt other strategies beyond the one in the assignment\n",
        "(which however is mandatory!)."
      ]
    },
    {
      "cell_type": "markdown",
      "metadata": {
        "id": "KEXE70CoHQcm"
      },
      "source": [
        "### Instructions (w/ or w/o Google Colaboratory)\n",
        "If the code is run locally, uncomment the following cell so that the dataset can be opened. \n",
        "Importing the dataset, using `os.getcwd()` to get current working directory and then finding the `.csv` in the `mldata_0003082046` subfolder"
      ]
    },
    {
      "cell_type": "code",
      "metadata": {
        "id": "uWA9N7L_HNC7"
      },
      "source": [
        "# data = pd.read_csv(os.getcwd()+\"/mldata_0003082046/mldata_0003082046.csv\")"
      ],
      "execution_count": 1,
      "outputs": []
    },
    {
      "cell_type": "markdown",
      "metadata": {
        "id": "I95nWq6eJQUI"
      },
      "source": [
        "If instead the code is run on Google Colaboratory use the cells in the next sections to mount the Drive."
      ]
    },
    {
      "cell_type": "code",
      "metadata": {
        "colab": {
          "base_uri": "https://localhost:8080/"
        },
        "id": "RshOWz16x8su",
        "outputId": "f4ec0c64-78e2-40e8-953b-a4bfed117e9b"
      },
      "source": [
        "from google.colab import drive\n",
        "drive.mount('/content/drive')"
      ],
      "execution_count": 2,
      "outputs": [
        {
          "output_type": "stream",
          "text": [
            "Drive already mounted at /content/drive; to attempt to forcibly remount, call drive.mount(\"/content/drive\", force_remount=True).\n"
          ],
          "name": "stdout"
        }
      ]
    },
    {
      "cell_type": "markdown",
      "metadata": {
        "id": "u6TMMC2TGzaA"
      },
      "source": [
        "Common imports:"
      ]
    },
    {
      "cell_type": "code",
      "metadata": {
        "id": "x8i7Aa4vGyK6"
      },
      "source": [
        "import os\n",
        "import numpy as np\n",
        "import pandas as pd\n",
        "import matplotlib.pyplot as plt\n",
        "import seaborn as sns"
      ],
      "execution_count": 3,
      "outputs": []
    },
    {
      "cell_type": "markdown",
      "metadata": {
        "id": "pxF2_oQUEAtk"
      },
      "source": [
        "### Data Import and Visualization"
      ]
    },
    {
      "cell_type": "code",
      "metadata": {
        "id": "mJOWxv-qD7AM"
      },
      "source": [
        "data = pd.read_csv(\"/content/drive/My Drive/mldata_0003082046.csv\")"
      ],
      "execution_count": 4,
      "outputs": []
    },
    {
      "cell_type": "code",
      "metadata": {
        "colab": {
          "base_uri": "https://localhost:8080/",
          "height": 241
        },
        "id": "I4GdDKnJJ3hT",
        "outputId": "1fe2aa82-b774-4e35-e091-7e2c7c9d7547"
      },
      "source": [
        "data.head()"
      ],
      "execution_count": 5,
      "outputs": [
        {
          "output_type": "execute_result",
          "data": {
            "text/html": [
              "<div>\n",
              "<style scoped>\n",
              "    .dataframe tbody tr th:only-of-type {\n",
              "        vertical-align: middle;\n",
              "    }\n",
              "\n",
              "    .dataframe tbody tr th {\n",
              "        vertical-align: top;\n",
              "    }\n",
              "\n",
              "    .dataframe thead th {\n",
              "        text-align: right;\n",
              "    }\n",
              "</style>\n",
              "<table border=\"1\" class=\"dataframe\">\n",
              "  <thead>\n",
              "    <tr style=\"text-align: right;\">\n",
              "      <th></th>\n",
              "      <th>Unnamed: 0</th>\n",
              "      <th>label</th>\n",
              "      <th>feature_1</th>\n",
              "      <th>feature_2</th>\n",
              "      <th>feature_3</th>\n",
              "      <th>feature_4</th>\n",
              "      <th>feature_5</th>\n",
              "      <th>feature_6</th>\n",
              "      <th>feature_7</th>\n",
              "      <th>feature_8</th>\n",
              "      <th>feature_9</th>\n",
              "      <th>feature_10</th>\n",
              "      <th>feature_11</th>\n",
              "      <th>feature_12</th>\n",
              "      <th>feature_13</th>\n",
              "      <th>feature_14</th>\n",
              "      <th>feature_15</th>\n",
              "      <th>feature_16</th>\n",
              "      <th>feature_17</th>\n",
              "      <th>feature_18</th>\n",
              "      <th>feature_19</th>\n",
              "      <th>feature_20</th>\n",
              "      <th>feature_21</th>\n",
              "      <th>feature_22</th>\n",
              "      <th>feature_23</th>\n",
              "      <th>feature_24</th>\n",
              "      <th>feature_25</th>\n",
              "      <th>feature_26</th>\n",
              "      <th>feature_27</th>\n",
              "      <th>feature_28</th>\n",
              "      <th>feature_29</th>\n",
              "      <th>feature_30</th>\n",
              "      <th>categorical_feature_1</th>\n",
              "    </tr>\n",
              "  </thead>\n",
              "  <tbody>\n",
              "    <tr>\n",
              "      <th>0</th>\n",
              "      <td>0</td>\n",
              "      <td>2</td>\n",
              "      <td>1.317261</td>\n",
              "      <td>8.358737</td>\n",
              "      <td>0.012758</td>\n",
              "      <td>-5.217166</td>\n",
              "      <td>4.527006</td>\n",
              "      <td>-1.406090</td>\n",
              "      <td>-0.342143</td>\n",
              "      <td>0.348081</td>\n",
              "      <td>-3.012028</td>\n",
              "      <td>-0.030038</td>\n",
              "      <td>-0.765012</td>\n",
              "      <td>-0.443708</td>\n",
              "      <td>1.043832</td>\n",
              "      <td>-0.091771</td>\n",
              "      <td>1.176236</td>\n",
              "      <td>-0.880417</td>\n",
              "      <td>1.568592</td>\n",
              "      <td>-1.706071</td>\n",
              "      <td>-0.379981</td>\n",
              "      <td>-0.318466</td>\n",
              "      <td>-1.169511</td>\n",
              "      <td>1.356334</td>\n",
              "      <td>0.535998</td>\n",
              "      <td>-0.131434</td>\n",
              "      <td>2.329964</td>\n",
              "      <td>-0.684323</td>\n",
              "      <td>1.994169</td>\n",
              "      <td>1.934354</td>\n",
              "      <td>0.406818</td>\n",
              "      <td>-4.655728</td>\n",
              "      <td>C</td>\n",
              "    </tr>\n",
              "    <tr>\n",
              "      <th>1</th>\n",
              "      <td>1</td>\n",
              "      <td>0</td>\n",
              "      <td>7.340127</td>\n",
              "      <td>-3.555115</td>\n",
              "      <td>-1.402374</td>\n",
              "      <td>3.795976</td>\n",
              "      <td>2.906873</td>\n",
              "      <td>0.834305</td>\n",
              "      <td>-0.474424</td>\n",
              "      <td>0.379163</td>\n",
              "      <td>3.010350</td>\n",
              "      <td>1.085285</td>\n",
              "      <td>-2.457510</td>\n",
              "      <td>-2.252354</td>\n",
              "      <td>0.027248</td>\n",
              "      <td>4.244418</td>\n",
              "      <td>0.426144</td>\n",
              "      <td>0.242195</td>\n",
              "      <td>-1.388683</td>\n",
              "      <td>0.975758</td>\n",
              "      <td>-2.107836</td>\n",
              "      <td>-4.199434</td>\n",
              "      <td>7.458774</td>\n",
              "      <td>-1.238011</td>\n",
              "      <td>3.314475</td>\n",
              "      <td>0.830218</td>\n",
              "      <td>-3.315989</td>\n",
              "      <td>5.678754</td>\n",
              "      <td>0.868932</td>\n",
              "      <td>-5.463458</td>\n",
              "      <td>1.515240</td>\n",
              "      <td>-2.683021</td>\n",
              "      <td>C</td>\n",
              "    </tr>\n",
              "    <tr>\n",
              "      <th>2</th>\n",
              "      <td>2</td>\n",
              "      <td>3</td>\n",
              "      <td>1.669893</td>\n",
              "      <td>-0.156661</td>\n",
              "      <td>-0.443940</td>\n",
              "      <td>1.679536</td>\n",
              "      <td>2.275529</td>\n",
              "      <td>-0.015023</td>\n",
              "      <td>0.179829</td>\n",
              "      <td>1.107741</td>\n",
              "      <td>4.331329</td>\n",
              "      <td>-0.422255</td>\n",
              "      <td>-0.962114</td>\n",
              "      <td>-2.953092</td>\n",
              "      <td>-1.631581</td>\n",
              "      <td>-2.381880</td>\n",
              "      <td>0.093982</td>\n",
              "      <td>2.171647</td>\n",
              "      <td>2.086418</td>\n",
              "      <td>0.850709</td>\n",
              "      <td>-0.477933</td>\n",
              "      <td>-0.293551</td>\n",
              "      <td>1.296276</td>\n",
              "      <td>0.019973</td>\n",
              "      <td>2.025434</td>\n",
              "      <td>-1.539228</td>\n",
              "      <td>-0.124959</td>\n",
              "      <td>0.729042</td>\n",
              "      <td>-0.933219</td>\n",
              "      <td>1.335045</td>\n",
              "      <td>0.917811</td>\n",
              "      <td>4.190699</td>\n",
              "      <td>A</td>\n",
              "    </tr>\n",
              "    <tr>\n",
              "      <th>3</th>\n",
              "      <td>3</td>\n",
              "      <td>0</td>\n",
              "      <td>-0.623603</td>\n",
              "      <td>0.122445</td>\n",
              "      <td>0.813246</td>\n",
              "      <td>5.045944</td>\n",
              "      <td>-2.038502</td>\n",
              "      <td>0.568875</td>\n",
              "      <td>0.582684</td>\n",
              "      <td>-1.882058</td>\n",
              "      <td>0.380607</td>\n",
              "      <td>0.742172</td>\n",
              "      <td>2.260215</td>\n",
              "      <td>0.825563</td>\n",
              "      <td>0.804980</td>\n",
              "      <td>5.700392</td>\n",
              "      <td>0.493337</td>\n",
              "      <td>0.994722</td>\n",
              "      <td>3.863302</td>\n",
              "      <td>6.243809</td>\n",
              "      <td>-0.247652</td>\n",
              "      <td>0.429865</td>\n",
              "      <td>0.037361</td>\n",
              "      <td>0.926294</td>\n",
              "      <td>-1.737447</td>\n",
              "      <td>-0.713846</td>\n",
              "      <td>-1.130351</td>\n",
              "      <td>-3.553304</td>\n",
              "      <td>-0.667542</td>\n",
              "      <td>-0.218199</td>\n",
              "      <td>-4.047490</td>\n",
              "      <td>11.728424</td>\n",
              "      <td>C</td>\n",
              "    </tr>\n",
              "    <tr>\n",
              "      <th>4</th>\n",
              "      <td>4</td>\n",
              "      <td>1</td>\n",
              "      <td>0.848504</td>\n",
              "      <td>-6.271396</td>\n",
              "      <td>-1.764746</td>\n",
              "      <td>-0.718353</td>\n",
              "      <td>1.989970</td>\n",
              "      <td>-1.594145</td>\n",
              "      <td>-0.719358</td>\n",
              "      <td>3.330150</td>\n",
              "      <td>-0.141448</td>\n",
              "      <td>-4.353223</td>\n",
              "      <td>3.801571</td>\n",
              "      <td>-1.556320</td>\n",
              "      <td>0.222998</td>\n",
              "      <td>-1.515106</td>\n",
              "      <td>-0.270024</td>\n",
              "      <td>0.574702</td>\n",
              "      <td>-2.220203</td>\n",
              "      <td>-4.809569</td>\n",
              "      <td>-0.853683</td>\n",
              "      <td>-3.725578</td>\n",
              "      <td>-2.303464</td>\n",
              "      <td>-0.515869</td>\n",
              "      <td>2.030722</td>\n",
              "      <td>1.743685</td>\n",
              "      <td>-3.004193</td>\n",
              "      <td>-4.374810</td>\n",
              "      <td>0.306283</td>\n",
              "      <td>5.932732</td>\n",
              "      <td>3.316302</td>\n",
              "      <td>3.973014</td>\n",
              "      <td>B</td>\n",
              "    </tr>\n",
              "  </tbody>\n",
              "</table>\n",
              "</div>"
            ],
            "text/plain": [
              "   Unnamed: 0  label  feature_1  ...  feature_29  feature_30  categorical_feature_1\n",
              "0           0      2   1.317261  ...    0.406818   -4.655728                      C\n",
              "1           1      0   7.340127  ...    1.515240   -2.683021                      C\n",
              "2           2      3   1.669893  ...    0.917811    4.190699                      A\n",
              "3           3      0  -0.623603  ...   -4.047490   11.728424                      C\n",
              "4           4      1   0.848504  ...    3.316302    3.973014                      B\n",
              "\n",
              "[5 rows x 33 columns]"
            ]
          },
          "metadata": {
            "tags": []
          },
          "execution_count": 5
        }
      ]
    },
    {
      "cell_type": "markdown",
      "metadata": {
        "id": "p4wPmmWrPLiH"
      },
      "source": [
        "we drop the \"Unnamed: 0\" since it represents the id which are already added when the data is imported"
      ]
    },
    {
      "cell_type": "code",
      "metadata": {
        "id": "QDiVbUtxPYAB"
      },
      "source": [
        "data.drop(columns=[\"Unnamed: 0\"], inplace=True)"
      ],
      "execution_count": 6,
      "outputs": []
    },
    {
      "cell_type": "code",
      "metadata": {
        "colab": {
          "base_uri": "https://localhost:8080/"
        },
        "id": "nyHeI2w0K7c6",
        "outputId": "5714afe3-b4c6-41dd-b50d-9cb006d671e7"
      },
      "source": [
        "data.info()"
      ],
      "execution_count": 7,
      "outputs": [
        {
          "output_type": "stream",
          "text": [
            "<class 'pandas.core.frame.DataFrame'>\n",
            "RangeIndex: 1300 entries, 0 to 1299\n",
            "Data columns (total 32 columns):\n",
            " #   Column                 Non-Null Count  Dtype  \n",
            "---  ------                 --------------  -----  \n",
            " 0   label                  1300 non-null   int64  \n",
            " 1   feature_1              1300 non-null   float64\n",
            " 2   feature_2              1300 non-null   float64\n",
            " 3   feature_3              1300 non-null   float64\n",
            " 4   feature_4              1300 non-null   float64\n",
            " 5   feature_5              1300 non-null   float64\n",
            " 6   feature_6              1300 non-null   float64\n",
            " 7   feature_7              1300 non-null   float64\n",
            " 8   feature_8              1300 non-null   float64\n",
            " 9   feature_9              1300 non-null   float64\n",
            " 10  feature_10             1300 non-null   float64\n",
            " 11  feature_11             1300 non-null   float64\n",
            " 12  feature_12             1300 non-null   float64\n",
            " 13  feature_13             1300 non-null   float64\n",
            " 14  feature_14             1300 non-null   float64\n",
            " 15  feature_15             1300 non-null   float64\n",
            " 16  feature_16             1300 non-null   float64\n",
            " 17  feature_17             1300 non-null   float64\n",
            " 18  feature_18             1300 non-null   float64\n",
            " 19  feature_19             1300 non-null   float64\n",
            " 20  feature_20             1300 non-null   float64\n",
            " 21  feature_21             1300 non-null   float64\n",
            " 22  feature_22             1300 non-null   float64\n",
            " 23  feature_23             1300 non-null   float64\n",
            " 24  feature_24             1300 non-null   float64\n",
            " 25  feature_25             1300 non-null   float64\n",
            " 26  feature_26             1300 non-null   float64\n",
            " 27  feature_27             1300 non-null   float64\n",
            " 28  feature_28             1300 non-null   float64\n",
            " 29  feature_29             1300 non-null   float64\n",
            " 30  feature_30             1300 non-null   float64\n",
            " 31  categorical_feature_1  1300 non-null   object \n",
            "dtypes: float64(30), int64(1), object(1)\n",
            "memory usage: 325.1+ KB\n"
          ],
          "name": "stdout"
        }
      ]
    },
    {
      "cell_type": "code",
      "metadata": {
        "colab": {
          "base_uri": "https://localhost:8080/"
        },
        "id": "DcIfhHfAK-Xj",
        "outputId": "658f07bd-52d2-4ef0-853b-08ed1266a5d4"
      },
      "source": [
        "data[\"categorical_feature_1\"].value_counts()"
      ],
      "execution_count": 8,
      "outputs": [
        {
          "output_type": "execute_result",
          "data": {
            "text/plain": [
              "C    680\n",
              "A    435\n",
              "B    185\n",
              "Name: categorical_feature_1, dtype: int64"
            ]
          },
          "metadata": {
            "tags": []
          },
          "execution_count": 8
        }
      ]
    },
    {
      "cell_type": "code",
      "metadata": {
        "colab": {
          "base_uri": "https://localhost:8080/",
          "height": 279
        },
        "id": "blBh64RrqhBv",
        "outputId": "446ed546-52a4-4f84-b777-aac26fbc1287"
      },
      "source": [
        "sns.countplot(x=\"label\", data=data)\n",
        "plt.show()"
      ],
      "execution_count": 9,
      "outputs": [
        {
          "output_type": "display_data",
          "data": {
            "image/png": "[encoded data removed]",
            "text/plain": [
              "<Figure size 432x288 with 1 Axes>"
            ]
          },
          "metadata": {
            "tags": [],
            "needs_background": "light"
          }
        }
      ]
    },
    {
      "cell_type": "code",
      "metadata": {
        "colab": {
          "base_uri": "https://localhost:8080/",
          "height": 317
        },
        "id": "YHDMOlCrLMjg",
        "outputId": "45d0e089-8466-45ef-cbb0-7278e5662b6c"
      },
      "source": [
        "data.describe()"
      ],
      "execution_count": 10,
      "outputs": [
        {
          "output_type": "execute_result",
          "data": {
            "text/html": [
              "<div>\n",
              "<style scoped>\n",
              "    .dataframe tbody tr th:only-of-type {\n",
              "        vertical-align: middle;\n",
              "    }\n",
              "\n",
              "    .dataframe tbody tr th {\n",
              "        vertical-align: top;\n",
              "    }\n",
              "\n",
              "    .dataframe thead th {\n",
              "        text-align: right;\n",
              "    }\n",
              "</style>\n",
              "<table border=\"1\" class=\"dataframe\">\n",
              "  <thead>\n",
              "    <tr style=\"text-align: right;\">\n",
              "      <th></th>\n",
              "      <th>label</th>\n",
              "      <th>feature_1</th>\n",
              "      <th>feature_2</th>\n",
              "      <th>feature_3</th>\n",
              "      <th>feature_4</th>\n",
              "      <th>feature_5</th>\n",
              "      <th>feature_6</th>\n",
              "      <th>feature_7</th>\n",
              "      <th>feature_8</th>\n",
              "      <th>feature_9</th>\n",
              "      <th>feature_10</th>\n",
              "      <th>feature_11</th>\n",
              "      <th>feature_12</th>\n",
              "      <th>feature_13</th>\n",
              "      <th>feature_14</th>\n",
              "      <th>feature_15</th>\n",
              "      <th>feature_16</th>\n",
              "      <th>feature_17</th>\n",
              "      <th>feature_18</th>\n",
              "      <th>feature_19</th>\n",
              "      <th>feature_20</th>\n",
              "      <th>feature_21</th>\n",
              "      <th>feature_22</th>\n",
              "      <th>feature_23</th>\n",
              "      <th>feature_24</th>\n",
              "      <th>feature_25</th>\n",
              "      <th>feature_26</th>\n",
              "      <th>feature_27</th>\n",
              "      <th>feature_28</th>\n",
              "      <th>feature_29</th>\n",
              "      <th>feature_30</th>\n",
              "    </tr>\n",
              "  </thead>\n",
              "  <tbody>\n",
              "    <tr>\n",
              "      <th>count</th>\n",
              "      <td>1300.000000</td>\n",
              "      <td>1300.000000</td>\n",
              "      <td>1300.000000</td>\n",
              "      <td>1300.000000</td>\n",
              "      <td>1300.000000</td>\n",
              "      <td>1300.000000</td>\n",
              "      <td>1300.000000</td>\n",
              "      <td>1300.000000</td>\n",
              "      <td>1300.000000</td>\n",
              "      <td>1300.000000</td>\n",
              "      <td>1300.000000</td>\n",
              "      <td>1300.000000</td>\n",
              "      <td>1300.000000</td>\n",
              "      <td>1300.000000</td>\n",
              "      <td>1300.000000</td>\n",
              "      <td>1300.000000</td>\n",
              "      <td>1300.000000</td>\n",
              "      <td>1300.000000</td>\n",
              "      <td>1300.000000</td>\n",
              "      <td>1300.000000</td>\n",
              "      <td>1300.000000</td>\n",
              "      <td>1300.000000</td>\n",
              "      <td>1300.000000</td>\n",
              "      <td>1300.000000</td>\n",
              "      <td>1300.000000</td>\n",
              "      <td>1300.000000</td>\n",
              "      <td>1300.000000</td>\n",
              "      <td>1300.000000</td>\n",
              "      <td>1300.000000</td>\n",
              "      <td>1300.000000</td>\n",
              "      <td>1300.000000</td>\n",
              "    </tr>\n",
              "    <tr>\n",
              "      <th>mean</th>\n",
              "      <td>1.328462</td>\n",
              "      <td>0.485006</td>\n",
              "      <td>-0.188724</td>\n",
              "      <td>0.064082</td>\n",
              "      <td>-0.209710</td>\n",
              "      <td>0.727291</td>\n",
              "      <td>0.136622</td>\n",
              "      <td>0.068518</td>\n",
              "      <td>-0.102001</td>\n",
              "      <td>-0.008617</td>\n",
              "      <td>-0.634683</td>\n",
              "      <td>-0.594289</td>\n",
              "      <td>-0.012555</td>\n",
              "      <td>-0.014205</td>\n",
              "      <td>0.832540</td>\n",
              "      <td>0.103182</td>\n",
              "      <td>0.155925</td>\n",
              "      <td>0.259276</td>\n",
              "      <td>-0.171561</td>\n",
              "      <td>0.117787</td>\n",
              "      <td>-0.035311</td>\n",
              "      <td>0.636862</td>\n",
              "      <td>0.107799</td>\n",
              "      <td>0.843886</td>\n",
              "      <td>0.013545</td>\n",
              "      <td>-0.168853</td>\n",
              "      <td>-0.617460</td>\n",
              "      <td>0.099473</td>\n",
              "      <td>-0.651911</td>\n",
              "      <td>0.324557</td>\n",
              "      <td>0.514403</td>\n",
              "    </tr>\n",
              "    <tr>\n",
              "      <th>std</th>\n",
              "      <td>0.980466</td>\n",
              "      <td>2.646078</td>\n",
              "      <td>5.770547</td>\n",
              "      <td>1.037813</td>\n",
              "      <td>2.664411</td>\n",
              "      <td>2.574071</td>\n",
              "      <td>1.024913</td>\n",
              "      <td>0.993728</td>\n",
              "      <td>2.544534</td>\n",
              "      <td>2.503960</td>\n",
              "      <td>2.609109</td>\n",
              "      <td>2.535811</td>\n",
              "      <td>2.529016</td>\n",
              "      <td>2.585610</td>\n",
              "      <td>2.575421</td>\n",
              "      <td>1.023611</td>\n",
              "      <td>0.997988</td>\n",
              "      <td>2.703089</td>\n",
              "      <td>5.046798</td>\n",
              "      <td>1.016914</td>\n",
              "      <td>2.708710</td>\n",
              "      <td>2.266136</td>\n",
              "      <td>1.001673</td>\n",
              "      <td>2.527775</td>\n",
              "      <td>0.993996</td>\n",
              "      <td>2.724501</td>\n",
              "      <td>2.614131</td>\n",
              "      <td>1.004445</td>\n",
              "      <td>2.443311</td>\n",
              "      <td>2.590095</td>\n",
              "      <td>6.249319</td>\n",
              "    </tr>\n",
              "    <tr>\n",
              "      <th>min</th>\n",
              "      <td>0.000000</td>\n",
              "      <td>-7.678960</td>\n",
              "      <td>-14.996620</td>\n",
              "      <td>-4.013138</td>\n",
              "      <td>-9.309243</td>\n",
              "      <td>-7.265789</td>\n",
              "      <td>-3.299237</td>\n",
              "      <td>-3.165439</td>\n",
              "      <td>-8.966481</td>\n",
              "      <td>-9.070622</td>\n",
              "      <td>-9.040763</td>\n",
              "      <td>-9.968950</td>\n",
              "      <td>-8.685565</td>\n",
              "      <td>-9.496122</td>\n",
              "      <td>-7.184087</td>\n",
              "      <td>-3.886036</td>\n",
              "      <td>-2.816371</td>\n",
              "      <td>-8.061023</td>\n",
              "      <td>-18.018036</td>\n",
              "      <td>-3.679458</td>\n",
              "      <td>-9.495588</td>\n",
              "      <td>-7.102880</td>\n",
              "      <td>-2.959264</td>\n",
              "      <td>-6.275450</td>\n",
              "      <td>-2.960987</td>\n",
              "      <td>-9.898176</td>\n",
              "      <td>-9.354425</td>\n",
              "      <td>-2.787296</td>\n",
              "      <td>-8.531747</td>\n",
              "      <td>-8.160880</td>\n",
              "      <td>-16.551214</td>\n",
              "    </tr>\n",
              "    <tr>\n",
              "      <th>25%</th>\n",
              "      <td>1.000000</td>\n",
              "      <td>-1.236314</td>\n",
              "      <td>-4.076933</td>\n",
              "      <td>-0.633110</td>\n",
              "      <td>-2.063790</td>\n",
              "      <td>-1.039900</td>\n",
              "      <td>-0.545490</td>\n",
              "      <td>-0.595175</td>\n",
              "      <td>-1.800105</td>\n",
              "      <td>-1.653267</td>\n",
              "      <td>-2.347375</td>\n",
              "      <td>-2.270984</td>\n",
              "      <td>-1.695332</td>\n",
              "      <td>-1.639605</td>\n",
              "      <td>-0.748003</td>\n",
              "      <td>-0.552662</td>\n",
              "      <td>-0.526040</td>\n",
              "      <td>-1.582098</td>\n",
              "      <td>-3.726317</td>\n",
              "      <td>-0.543231</td>\n",
              "      <td>-1.804817</td>\n",
              "      <td>-0.869444</td>\n",
              "      <td>-0.570739</td>\n",
              "      <td>-0.877840</td>\n",
              "      <td>-0.671149</td>\n",
              "      <td>-2.025140</td>\n",
              "      <td>-2.404387</td>\n",
              "      <td>-0.587660</td>\n",
              "      <td>-2.244586</td>\n",
              "      <td>-1.411985</td>\n",
              "      <td>-3.418540</td>\n",
              "    </tr>\n",
              "    <tr>\n",
              "      <th>50%</th>\n",
              "      <td>1.000000</td>\n",
              "      <td>0.525535</td>\n",
              "      <td>-0.278050</td>\n",
              "      <td>0.027111</td>\n",
              "      <td>-0.190993</td>\n",
              "      <td>0.707304</td>\n",
              "      <td>0.123436</td>\n",
              "      <td>0.052528</td>\n",
              "      <td>-0.131215</td>\n",
              "      <td>-0.037080</td>\n",
              "      <td>-0.568432</td>\n",
              "      <td>-0.740954</td>\n",
              "      <td>-0.064889</td>\n",
              "      <td>-0.075388</td>\n",
              "      <td>0.810113</td>\n",
              "      <td>0.095431</td>\n",
              "      <td>0.121553</td>\n",
              "      <td>0.363690</td>\n",
              "      <td>-0.170582</td>\n",
              "      <td>0.105159</td>\n",
              "      <td>0.059464</td>\n",
              "      <td>0.694182</td>\n",
              "      <td>0.099103</td>\n",
              "      <td>0.759531</td>\n",
              "      <td>0.018101</td>\n",
              "      <td>-0.201987</td>\n",
              "      <td>-0.665086</td>\n",
              "      <td>0.132621</td>\n",
              "      <td>-0.666219</td>\n",
              "      <td>0.224516</td>\n",
              "      <td>0.370101</td>\n",
              "    </tr>\n",
              "    <tr>\n",
              "      <th>75%</th>\n",
              "      <td>2.000000</td>\n",
              "      <td>2.193712</td>\n",
              "      <td>3.760076</td>\n",
              "      <td>0.754779</td>\n",
              "      <td>1.641627</td>\n",
              "      <td>2.441596</td>\n",
              "      <td>0.808366</td>\n",
              "      <td>0.724697</td>\n",
              "      <td>1.692596</td>\n",
              "      <td>1.668456</td>\n",
              "      <td>1.076399</td>\n",
              "      <td>1.106410</td>\n",
              "      <td>1.670692</td>\n",
              "      <td>1.696636</td>\n",
              "      <td>2.432573</td>\n",
              "      <td>0.787077</td>\n",
              "      <td>0.808226</td>\n",
              "      <td>2.044090</td>\n",
              "      <td>3.075266</td>\n",
              "      <td>0.772127</td>\n",
              "      <td>1.778254</td>\n",
              "      <td>2.065364</td>\n",
              "      <td>0.780220</td>\n",
              "      <td>2.549565</td>\n",
              "      <td>0.680766</td>\n",
              "      <td>1.700169</td>\n",
              "      <td>1.078330</td>\n",
              "      <td>0.802862</td>\n",
              "      <td>0.962626</td>\n",
              "      <td>1.977101</td>\n",
              "      <td>4.469548</td>\n",
              "    </tr>\n",
              "    <tr>\n",
              "      <th>max</th>\n",
              "      <td>3.000000</td>\n",
              "      <td>9.887883</td>\n",
              "      <td>15.953680</td>\n",
              "      <td>3.075108</td>\n",
              "      <td>9.664288</td>\n",
              "      <td>10.738788</td>\n",
              "      <td>3.258320</td>\n",
              "      <td>2.923708</td>\n",
              "      <td>9.733426</td>\n",
              "      <td>8.281138</td>\n",
              "      <td>7.786604</td>\n",
              "      <td>9.810725</td>\n",
              "      <td>9.601417</td>\n",
              "      <td>9.260673</td>\n",
              "      <td>10.145004</td>\n",
              "      <td>3.456458</td>\n",
              "      <td>3.156076</td>\n",
              "      <td>9.209270</td>\n",
              "      <td>17.493228</td>\n",
              "      <td>3.335998</td>\n",
              "      <td>9.758739</td>\n",
              "      <td>7.709641</td>\n",
              "      <td>3.293299</td>\n",
              "      <td>10.100711</td>\n",
              "      <td>3.446536</td>\n",
              "      <td>7.156686</td>\n",
              "      <td>9.335819</td>\n",
              "      <td>3.263826</td>\n",
              "      <td>6.220341</td>\n",
              "      <td>9.928803</td>\n",
              "      <td>25.588489</td>\n",
              "    </tr>\n",
              "  </tbody>\n",
              "</table>\n",
              "</div>"
            ],
            "text/plain": [
              "             label    feature_1  ...   feature_29   feature_30\n",
              "count  1300.000000  1300.000000  ...  1300.000000  1300.000000\n",
              "mean      1.328462     0.485006  ...     0.324557     0.514403\n",
              "std       0.980466     2.646078  ...     2.590095     6.249319\n",
              "min       0.000000    -7.678960  ...    -8.160880   -16.551214\n",
              "25%       1.000000    -1.236314  ...    -1.411985    -3.418540\n",
              "50%       1.000000     0.525535  ...     0.224516     0.370101\n",
              "75%       2.000000     2.193712  ...     1.977101     4.469548\n",
              "max       3.000000     9.887883  ...     9.928803    25.588489\n",
              "\n",
              "[8 rows x 31 columns]"
            ]
          },
          "metadata": {
            "tags": []
          },
          "execution_count": 10
        }
      ]
    },
    {
      "cell_type": "code",
      "metadata": {
        "colab": {
          "base_uri": "https://localhost:8080/",
          "height": 654
        },
        "id": "kTHylwIcLVx4",
        "outputId": "05878336-fe6b-49d8-92ec-04e3e6df9359"
      },
      "source": [
        "plt.figure(figsize=(10,10), dpi=80)\n",
        "sns.boxplot(data=data, orient=\"h\")\n",
        "plt.show()"
      ],
      "execution_count": 11,
      "outputs": [
        {
          "output_type": "display_data",
          "data": {
            "image/png": "[encoded data removed]",
            "text/plain": [
              "<Figure size 800x800 with 1 Axes>"
            ]
          },
          "metadata": {
            "tags": [],
            "needs_background": "light"
          }
        }
      ]
    },
    {
      "cell_type": "code",
      "metadata": {
        "colab": {
          "base_uri": "https://localhost:8080/",
          "height": 879
        },
        "id": "d1P_WzbyJw-p",
        "outputId": "c79d0813-c16e-44b0-8a1d-fadb348fee16"
      },
      "source": [
        "data.hist(bins=50,figsize=(15,15))\n",
        "plt.show()"
      ],
      "execution_count": 12,
      "outputs": [
        {
          "output_type": "display_data",
          "data": {
            "image/png": "[encoded data removed]",
            "text/plain": [
              "<Figure size 1080x1080 with 36 Axes>"
            ]
          },
          "metadata": {
            "tags": [],
            "needs_background": "light"
          }
        }
      ]
    },
    {
      "cell_type": "code",
      "metadata": {
        "colab": {
          "base_uri": "https://localhost:8080/",
          "height": 457
        },
        "id": "EnCt0KR23yZs",
        "outputId": "fd643f2d-ff60-477b-e7b5-47d9b9a954a7"
      },
      "source": [
        "plt.figure(figsize=(15,8), dpi=65)\n",
        "sns.kdeplot(data=data.drop(columns=[\"label\"]))\n",
        "plt.show()"
      ],
      "execution_count": 13,
      "outputs": [
        {
          "output_type": "display_data",
          "data": {
            "image/png": "[encoded data removed]",
            "text/plain": [
              "<Figure size 975x520 with 1 Axes>"
            ]
          },
          "metadata": {
            "tags": [],
            "needs_background": "light"
          }
        }
      ]
    },
    {
      "cell_type": "code",
      "metadata": {
        "colab": {
          "base_uri": "https://localhost:8080/"
        },
        "id": "qjfDKVivGxmY",
        "outputId": "d5a31cfb-4d4d-4230-9cc7-d9b8f8cf4cee"
      },
      "source": [
        "corr_matrix = data.corr()\n",
        "corr_matrix[\"label\"].sort_values(ascending=False)"
      ],
      "execution_count": 14,
      "outputs": [
        {
          "output_type": "execute_result",
          "data": {
            "text/plain": [
              "label         1.000000\n",
              "feature_25    0.104719\n",
              "feature_28    0.091055\n",
              "feature_10    0.078617\n",
              "feature_11    0.070181\n",
              "feature_2     0.055968\n",
              "feature_29    0.052674\n",
              "feature_5     0.035174\n",
              "feature_23    0.032243\n",
              "feature_19    0.029727\n",
              "feature_15    0.016574\n",
              "feature_22    0.016276\n",
              "feature_6     0.008558\n",
              "feature_3     0.004030\n",
              "feature_27   -0.002473\n",
              "feature_17   -0.006647\n",
              "feature_1    -0.025644\n",
              "feature_24   -0.026356\n",
              "feature_26   -0.032871\n",
              "feature_12   -0.041102\n",
              "feature_7    -0.041671\n",
              "feature_8    -0.042614\n",
              "feature_16   -0.044571\n",
              "feature_4    -0.075140\n",
              "feature_30   -0.082865\n",
              "feature_20   -0.092506\n",
              "feature_9    -0.098286\n",
              "feature_14   -0.147186\n",
              "feature_18   -0.186736\n",
              "feature_21   -0.210090\n",
              "feature_13   -0.226295\n",
              "Name: label, dtype: float64"
            ]
          },
          "metadata": {
            "tags": []
          },
          "execution_count": 14
        }
      ]
    },
    {
      "cell_type": "code",
      "metadata": {
        "colab": {
          "base_uri": "https://localhost:8080/",
          "height": 449
        },
        "id": "pH8bUxtZSsR-",
        "outputId": "98ab9fc8-39dc-4356-9c6d-898ae68cdaa5"
      },
      "source": [
        "df = data\n",
        "plt.figure(figsize=(10,10), dpi=50)\n",
        "sns.heatmap(corr_matrix, xticklabels=df.corr().columns, yticklabels=df.corr().columns, center=0, cmap=\"viridis\", annot=False)\n",
        "plt.show()"
      ],
      "execution_count": 15,
      "outputs": [
        {
          "output_type": "display_data",
          "data": {
            "image/png": "[encoded data removed]",
            "text/plain": [
              "<Figure size 500x500 with 2 Axes>"
            ]
          },
          "metadata": {
            "tags": [],
            "needs_background": "light"
          }
        }
      ]
    },
    {
      "cell_type": "markdown",
      "metadata": {
        "id": "CTVdpGWyvpFn"
      },
      "source": [
        "### Data Preparation"
      ]
    },
    {
      "cell_type": "code",
      "metadata": {
        "id": "CWkRbZaAQcvE"
      },
      "source": [
        "from sklearn.preprocessing import OrdinalEncoder\n",
        "\n",
        "categorical = data[[\"categorical_feature_1\"]]\n",
        "\n",
        "ordinal_encoder = OrdinalEncoder()\n",
        "data[\"categorical_feature_1\"] = ordinal_encoder.fit_transform(categorical)"
      ],
      "execution_count": 16,
      "outputs": []
    },
    {
      "cell_type": "code",
      "metadata": {
        "colab": {
          "base_uri": "https://localhost:8080/"
        },
        "id": "w8YE6RxbSHLp",
        "outputId": "f3754897-a3d0-4d94-c39e-e6964efc5783"
      },
      "source": [
        "data[\"categorical_feature_1\"].head()"
      ],
      "execution_count": 17,
      "outputs": [
        {
          "output_type": "execute_result",
          "data": {
            "text/plain": [
              "0    2.0\n",
              "1    2.0\n",
              "2    0.0\n",
              "3    2.0\n",
              "4    1.0\n",
              "Name: categorical_feature_1, dtype: float64"
            ]
          },
          "metadata": {
            "tags": []
          },
          "execution_count": 17
        }
      ]
    },
    {
      "cell_type": "code",
      "metadata": {
        "id": "KVN2AXN1WzH5"
      },
      "source": [
        "from sklearn.preprocessing import MinMaxScaler\n",
        "\n",
        "data_scaled = data.copy()\n",
        "\n",
        "col_names = list(data.columns)[1:-1]\n",
        "features = data_scaled[col_names]\n",
        "scaler = MinMaxScaler().fit(features.values)\n",
        "features = scaler.transform(features.values)\n",
        "\n",
        "data_scaled[col_names] = features\n"
      ],
      "execution_count": 18,
      "outputs": []
    },
    {
      "cell_type": "code",
      "metadata": {
        "colab": {
          "base_uri": "https://localhost:8080/",
          "height": 224
        },
        "id": "7TnvD9j-apuh",
        "outputId": "b3392be8-8737-4009-d03b-f96d33efd705"
      },
      "source": [
        "data_scaled.head()"
      ],
      "execution_count": 19,
      "outputs": [
        {
          "output_type": "execute_result",
          "data": {
            "text/html": [
              "<div>\n",
              "<style scoped>\n",
              "    .dataframe tbody tr th:only-of-type {\n",
              "        vertical-align: middle;\n",
              "    }\n",
              "\n",
              "    .dataframe tbody tr th {\n",
              "        vertical-align: top;\n",
              "    }\n",
              "\n",
              "    .dataframe thead th {\n",
              "        text-align: right;\n",
              "    }\n",
              "</style>\n",
              "<table border=\"1\" class=\"dataframe\">\n",
              "  <thead>\n",
              "    <tr style=\"text-align: right;\">\n",
              "      <th></th>\n",
              "      <th>label</th>\n",
              "      <th>feature_1</th>\n",
              "      <th>feature_2</th>\n",
              "      <th>feature_3</th>\n",
              "      <th>feature_4</th>\n",
              "      <th>feature_5</th>\n",
              "      <th>feature_6</th>\n",
              "      <th>feature_7</th>\n",
              "      <th>feature_8</th>\n",
              "      <th>feature_9</th>\n",
              "      <th>feature_10</th>\n",
              "      <th>feature_11</th>\n",
              "      <th>feature_12</th>\n",
              "      <th>feature_13</th>\n",
              "      <th>feature_14</th>\n",
              "      <th>feature_15</th>\n",
              "      <th>feature_16</th>\n",
              "      <th>feature_17</th>\n",
              "      <th>feature_18</th>\n",
              "      <th>feature_19</th>\n",
              "      <th>feature_20</th>\n",
              "      <th>feature_21</th>\n",
              "      <th>feature_22</th>\n",
              "      <th>feature_23</th>\n",
              "      <th>feature_24</th>\n",
              "      <th>feature_25</th>\n",
              "      <th>feature_26</th>\n",
              "      <th>feature_27</th>\n",
              "      <th>feature_28</th>\n",
              "      <th>feature_29</th>\n",
              "      <th>feature_30</th>\n",
              "      <th>categorical_feature_1</th>\n",
              "    </tr>\n",
              "  </thead>\n",
              "  <tbody>\n",
              "    <tr>\n",
              "      <th>0</th>\n",
              "      <td>2</td>\n",
              "      <td>0.512114</td>\n",
              "      <td>0.754608</td>\n",
              "      <td>0.567968</td>\n",
              "      <td>0.215673</td>\n",
              "      <td>0.654989</td>\n",
              "      <td>0.288697</td>\n",
              "      <td>0.463660</td>\n",
              "      <td>0.498107</td>\n",
              "      <td>0.349163</td>\n",
              "      <td>0.535480</td>\n",
              "      <td>0.465323</td>\n",
              "      <td>0.450695</td>\n",
              "      <td>0.561927</td>\n",
              "      <td>0.409272</td>\n",
              "      <td>0.689449</td>\n",
              "      <td>0.324147</td>\n",
              "      <td>0.557583</td>\n",
              "      <td>0.459346</td>\n",
              "      <td>0.470315</td>\n",
              "      <td>0.476626</td>\n",
              "      <td>0.400564</td>\n",
              "      <td>0.690213</td>\n",
              "      <td>0.415937</td>\n",
              "      <td>0.441598</td>\n",
              "      <td>0.716989</td>\n",
              "      <td>0.463884</td>\n",
              "      <td>0.790178</td>\n",
              "      <td>0.709466</td>\n",
              "      <td>0.473623</td>\n",
              "      <td>0.282287</td>\n",
              "      <td>2.0</td>\n",
              "    </tr>\n",
              "    <tr>\n",
              "      <th>1</th>\n",
              "      <td>0</td>\n",
              "      <td>0.854968</td>\n",
              "      <td>0.369673</td>\n",
              "      <td>0.368323</td>\n",
              "      <td>0.690711</td>\n",
              "      <td>0.565004</td>\n",
              "      <td>0.630348</td>\n",
              "      <td>0.441936</td>\n",
              "      <td>0.499770</td>\n",
              "      <td>0.696239</td>\n",
              "      <td>0.601761</td>\n",
              "      <td>0.379755</td>\n",
              "      <td>0.351792</td>\n",
              "      <td>0.507729</td>\n",
              "      <td>0.659498</td>\n",
              "      <td>0.587291</td>\n",
              "      <td>0.512113</td>\n",
              "      <td>0.386348</td>\n",
              "      <td>0.534867</td>\n",
              "      <td>0.224023</td>\n",
              "      <td>0.275063</td>\n",
              "      <td>0.983064</td>\n",
              "      <td>0.275288</td>\n",
              "      <td>0.585603</td>\n",
              "      <td>0.591680</td>\n",
              "      <td>0.385942</td>\n",
              "      <td>0.804333</td>\n",
              "      <td>0.604223</td>\n",
              "      <td>0.207990</td>\n",
              "      <td>0.534897</td>\n",
              "      <td>0.329100</td>\n",
              "      <td>2.0</td>\n",
              "    </tr>\n",
              "    <tr>\n",
              "      <th>2</th>\n",
              "      <td>3</td>\n",
              "      <td>0.532187</td>\n",
              "      <td>0.479477</td>\n",
              "      <td>0.503538</td>\n",
              "      <td>0.579164</td>\n",
              "      <td>0.529938</td>\n",
              "      <td>0.500829</td>\n",
              "      <td>0.549382</td>\n",
              "      <td>0.538731</td>\n",
              "      <td>0.772368</td>\n",
              "      <td>0.512172</td>\n",
              "      <td>0.455358</td>\n",
              "      <td>0.313473</td>\n",
              "      <td>0.419290</td>\n",
              "      <td>0.277118</td>\n",
              "      <td>0.542053</td>\n",
              "      <td>0.835172</td>\n",
              "      <td>0.587566</td>\n",
              "      <td>0.531345</td>\n",
              "      <td>0.456353</td>\n",
              "      <td>0.477920</td>\n",
              "      <td>0.567031</td>\n",
              "      <td>0.476483</td>\n",
              "      <td>0.506888</td>\n",
              "      <td>0.221889</td>\n",
              "      <td>0.573046</td>\n",
              "      <td>0.539504</td>\n",
              "      <td>0.306402</td>\n",
              "      <td>0.668840</td>\n",
              "      <td>0.501871</td>\n",
              "      <td>0.492218</td>\n",
              "      <td>0.0</td>\n",
              "    </tr>\n",
              "    <tr>\n",
              "      <th>3</th>\n",
              "      <td>0</td>\n",
              "      <td>0.401629</td>\n",
              "      <td>0.488495</td>\n",
              "      <td>0.680900</td>\n",
              "      <td>0.756590</td>\n",
              "      <td>0.290331</td>\n",
              "      <td>0.589871</td>\n",
              "      <td>0.615542</td>\n",
              "      <td>0.378848</td>\n",
              "      <td>0.544684</td>\n",
              "      <td>0.581370</td>\n",
              "      <td>0.618269</td>\n",
              "      <td>0.520104</td>\n",
              "      <td>0.549193</td>\n",
              "      <td>0.743517</td>\n",
              "      <td>0.596442</td>\n",
              "      <td>0.638112</td>\n",
              "      <td>0.690453</td>\n",
              "      <td>0.683215</td>\n",
              "      <td>0.489178</td>\n",
              "      <td>0.515492</td>\n",
              "      <td>0.482041</td>\n",
              "      <td>0.621434</td>\n",
              "      <td>0.277110</td>\n",
              "      <td>0.350703</td>\n",
              "      <td>0.514095</td>\n",
              "      <td>0.310382</td>\n",
              "      <td>0.350308</td>\n",
              "      <td>0.563551</td>\n",
              "      <td>0.227389</td>\n",
              "      <td>0.671092</td>\n",
              "      <td>2.0</td>\n",
              "    </tr>\n",
              "    <tr>\n",
              "      <th>4</th>\n",
              "      <td>1</td>\n",
              "      <td>0.485429</td>\n",
              "      <td>0.281911</td>\n",
              "      <td>0.317200</td>\n",
              "      <td>0.452783</td>\n",
              "      <td>0.514078</td>\n",
              "      <td>0.260019</td>\n",
              "      <td>0.401712</td>\n",
              "      <td>0.657577</td>\n",
              "      <td>0.514598</td>\n",
              "      <td>0.278566</td>\n",
              "      <td>0.696195</td>\n",
              "      <td>0.389854</td>\n",
              "      <td>0.518165</td>\n",
              "      <td>0.327137</td>\n",
              "      <td>0.492477</td>\n",
              "      <td>0.567786</td>\n",
              "      <td>0.338200</td>\n",
              "      <td>0.371951</td>\n",
              "      <td>0.402793</td>\n",
              "      <td>0.299673</td>\n",
              "      <td>0.324011</td>\n",
              "      <td>0.390783</td>\n",
              "      <td>0.507211</td>\n",
              "      <td>0.734242</td>\n",
              "      <td>0.404224</td>\n",
              "      <td>0.266429</td>\n",
              "      <td>0.511241</td>\n",
              "      <td>0.980504</td>\n",
              "      <td>0.634460</td>\n",
              "      <td>0.487052</td>\n",
              "      <td>1.0</td>\n",
              "    </tr>\n",
              "  </tbody>\n",
              "</table>\n",
              "</div>"
            ],
            "text/plain": [
              "   label  feature_1  feature_2  ...  feature_29  feature_30  categorical_feature_1\n",
              "0      2   0.512114   0.754608  ...    0.473623    0.282287                    2.0\n",
              "1      0   0.854968   0.369673  ...    0.534897    0.329100                    2.0\n",
              "2      3   0.532187   0.479477  ...    0.501871    0.492218                    0.0\n",
              "3      0   0.401629   0.488495  ...    0.227389    0.671092                    2.0\n",
              "4      1   0.485429   0.281911  ...    0.634460    0.487052                    1.0\n",
              "\n",
              "[5 rows x 32 columns]"
            ]
          },
          "metadata": {
            "tags": []
          },
          "execution_count": 19
        }
      ]
    },
    {
      "cell_type": "code",
      "metadata": {
        "id": "RxAEy4Ys8yZD"
      },
      "source": [
        "from sklearn.model_selection import train_test_split\n",
        "\n",
        "train_set, test_set = train_test_split(data_scaled, test_size=0.3, random_state=42, shuffle=True)"
      ],
      "execution_count": 20,
      "outputs": []
    },
    {
      "cell_type": "code",
      "metadata": {
        "id": "Rn3jgXAHH-Te"
      },
      "source": [
        "train_set_features = train_set.drop(columns=[\"label\"])\n",
        "train_set_targets = train_set[\"label\"]"
      ],
      "execution_count": 21,
      "outputs": []
    },
    {
      "cell_type": "code",
      "metadata": {
        "colab": {
          "base_uri": "https://localhost:8080/",
          "height": 279
        },
        "id": "cXOZr9X_87pN",
        "outputId": "b98b2ec2-c865-4d7b-dc68-2bd846293940"
      },
      "source": [
        "sns.countplot(x=\"label\", data=train_set)\n",
        "plt.show()"
      ],
      "execution_count": 22,
      "outputs": [
        {
          "output_type": "display_data",
          "data": {
            "image/png": "[encoded data removed]",
            "text/plain": [
              "<Figure size 432x288 with 1 Axes>"
            ]
          },
          "metadata": {
            "tags": [],
            "needs_background": "light"
          }
        }
      ]
    },
    {
      "cell_type": "markdown",
      "metadata": {
        "id": "_IK8Bvu1-fK6"
      },
      "source": [
        "### Logistic Regression"
      ]
    },
    {
      "cell_type": "code",
      "metadata": {
        "colab": {
          "base_uri": "https://localhost:8080/"
        },
        "id": "zw_jpMOjylGB",
        "outputId": "a92842d5-d203-48fb-9078-878ed8203bc1"
      },
      "source": [
        "from sklearn.linear_model import LogisticRegression\n",
        "log_reg = LogisticRegression(C=1, solver=\"newton-cg\", random_state=42, penalty='l2', max_iter=500)\n",
        "log_reg.fit(train_set_features, train_set_targets)"
      ],
      "execution_count": 23,
      "outputs": [
        {
          "output_type": "execute_result",
          "data": {
            "text/plain": [
              "LogisticRegression(C=1, class_weight=None, dual=False, fit_intercept=True,\n",
              "                   intercept_scaling=1, l1_ratio=None, max_iter=500,\n",
              "                   multi_class='auto', n_jobs=None, penalty='l2',\n",
              "                   random_state=42, solver='newton-cg', tol=0.0001, verbose=0,\n",
              "                   warm_start=False)"
            ]
          },
          "metadata": {
            "tags": []
          },
          "execution_count": 23
        }
      ]
    },
    {
      "cell_type": "code",
      "metadata": {
        "id": "nU2APUmj7-br"
      },
      "source": [
        "from sklearn.model_selection import  GridSearchCV"
      ],
      "execution_count": 24,
      "outputs": []
    },
    {
      "cell_type": "code",
      "metadata": {
        "colab": {
          "base_uri": "https://localhost:8080/"
        },
        "id": "4aM6jD0qeHpH",
        "outputId": "532a8b17-c87c-4ddd-b978-32c034e9940c"
      },
      "source": [
        "from sklearn.model_selection import  GridSearchCV\n",
        "param_grid={\n",
        "    'C': [0.001, 0.01, 0.1, 1, 10, 100, 1000],\n",
        "    'max_iter' : [500, 1000],\n",
        "    'penalty': ['l2'],\n",
        "    'solver' : ['newton-cg', 'lbfgs']#,\n",
        "    #'class_weight' : ['balanced']\n",
        "}\n",
        "grid = GridSearchCV(LogisticRegression(), param_grid, cv=12, scoring='accuracy', refit='True', verbose=1)\n",
        "grid.fit(train_set_features, train_set_targets)\n",
        "grid.best_params_"
      ],
      "execution_count": 450,
      "outputs": [
        {
          "output_type": "stream",
          "text": [
            "Fitting 12 folds for each of 28 candidates, totalling 336 fits\n"
          ],
          "name": "stdout"
        },
        {
          "output_type": "stream",
          "text": [
            "[Parallel(n_jobs=1)]: Using backend SequentialBackend with 1 concurrent workers.\n",
            "[Parallel(n_jobs=1)]: Done 336 out of 336 | elapsed:   29.6s finished\n"
          ],
          "name": "stderr"
        },
        {
          "output_type": "execute_result",
          "data": {
            "text/plain": [
              "{'C': 1, 'max_iter': 500, 'penalty': 'l2', 'solver': 'newton-cg'}"
            ]
          },
          "metadata": {
            "tags": []
          },
          "execution_count": 450
        }
      ]
    },
    {
      "cell_type": "markdown",
      "metadata": {
        "id": "Ws46KecrUx4-"
      },
      "source": [
        "#### Metrics"
      ]
    },
    {
      "cell_type": "code",
      "metadata": {
        "id": "bUXA6fjc-htg"
      },
      "source": [
        "from sklearn.metrics import mean_squared_error, accuracy_score, classification_report\n",
        "\n",
        "test_set_features = test_set.drop(columns=[\"label\"])\n",
        "test_set_targets = test_set[\"label\"]"
      ],
      "execution_count": 176,
      "outputs": []
    },
    {
      "cell_type": "code",
      "metadata": {
        "colab": {
          "base_uri": "https://localhost:8080/"
        },
        "id": "QW-aO45dTAYG",
        "outputId": "bfcd6be5-0536-4daf-c2af-d6b0a73b6296"
      },
      "source": [
        "predictions = log_reg.predict(test_set_features)\n",
        "mse = mean_squared_error(test_set_targets, predictions)\n",
        "mse"
      ],
      "execution_count": 177,
      "outputs": [
        {
          "output_type": "execute_result",
          "data": {
            "text/plain": [
              "1.0794871794871794"
            ]
          },
          "metadata": {
            "tags": []
          },
          "execution_count": 177
        }
      ]
    },
    {
      "cell_type": "code",
      "metadata": {
        "colab": {
          "base_uri": "https://localhost:8080/"
        },
        "id": "cWqi66jXG9Pe",
        "outputId": "26021a7f-ded7-4c19-a9f7-65e281f0076a"
      },
      "source": [
        "accuracy = accuracy_score(test_set_targets, predictions)\n",
        "accuracy"
      ],
      "execution_count": 178,
      "outputs": [
        {
          "output_type": "execute_result",
          "data": {
            "text/plain": [
              "0.6564102564102564"
            ]
          },
          "metadata": {
            "tags": []
          },
          "execution_count": 178
        }
      ]
    },
    {
      "cell_type": "code",
      "metadata": {
        "colab": {
          "base_uri": "https://localhost:8080/"
        },
        "id": "TCgnfzHZqpG8",
        "outputId": "c9d830f2-b9b2-4a45-8dd2-5b590000ebbe"
      },
      "source": [
        "print(classification_report(test_set_targets, predictions))"
      ],
      "execution_count": 179,
      "outputs": [
        {
          "output_type": "stream",
          "text": [
            "              precision    recall  f1-score   support\n",
            "\n",
            "           0       0.69      0.71      0.70       102\n",
            "           1       0.72      0.69      0.70       134\n",
            "           2       0.60      0.75      0.66       108\n",
            "           3       0.53      0.22      0.31        46\n",
            "\n",
            "    accuracy                           0.66       390\n",
            "   macro avg       0.63      0.59      0.59       390\n",
            "weighted avg       0.65      0.66      0.64       390\n",
            "\n"
          ],
          "name": "stdout"
        }
      ]
    },
    {
      "cell_type": "code",
      "metadata": {
        "colab": {
          "base_uri": "https://localhost:8080/",
          "height": 303
        },
        "id": "lgmVe38OTbiO",
        "outputId": "c0ae7dc1-7c8e-430f-ccd7-55067373c0c2"
      },
      "source": [
        "from sklearn.metrics import confusion_matrix\n",
        "cm = confusion_matrix(test_set_targets, predictions)\n",
        "\n",
        "plt.figure(figsize=(5,5))\n",
        "sns.heatmap(cm, annot=True, fmt=\".3f\", linewidths=.5, square = True, cmap = 'Blues_r');"
      ],
      "execution_count": 28,
      "outputs": [
        {
          "output_type": "display_data",
          "data": {
            "image/png": "[encoded data removed]",
            "text/plain": [
              "<Figure size 360x360 with 2 Axes>"
            ]
          },
          "metadata": {
            "tags": [],
            "needs_background": "light"
          }
        }
      ]
    },
    {
      "cell_type": "code",
      "metadata": {
        "id": "oSI7Aj8xUamc"
      },
      "source": [
        ""
      ],
      "execution_count": 28,
      "outputs": []
    },
    {
      "cell_type": "markdown",
      "metadata": {
        "id": "wlCaXXjxogMn"
      },
      "source": [
        "### Random Forest"
      ]
    },
    {
      "cell_type": "code",
      "metadata": {
        "colab": {
          "base_uri": "https://localhost:8080/"
        },
        "id": "GcrGFhbWoi_x",
        "outputId": "3fb898bc-e22a-42bb-c702-d2f5ca8ea663"
      },
      "source": [
        "from sklearn.ensemble import RandomForestClassifier\n",
        "\n",
        "rand_forest = RandomForestClassifier(max_depth=105, n_estimators=1667,\n",
        "                                     bootstrap=False, max_features='sqrt')\n",
        "rand_forest.fit(train_set_features, train_set_targets)"
      ],
      "execution_count": 156,
      "outputs": [
        {
          "output_type": "execute_result",
          "data": {
            "text/plain": [
              "RandomForestClassifier(bootstrap=False, ccp_alpha=0.0, class_weight=None,\n",
              "                       criterion='gini', max_depth=105, max_features='sqrt',\n",
              "                       max_leaf_nodes=None, max_samples=None,\n",
              "                       min_impurity_decrease=0.0, min_impurity_split=None,\n",
              "                       min_samples_leaf=1, min_samples_split=2,\n",
              "                       min_weight_fraction_leaf=0.0, n_estimators=1667,\n",
              "                       n_jobs=None, oob_score=False, random_state=None,\n",
              "                       verbose=0, warm_start=False)"
            ]
          },
          "metadata": {
            "tags": []
          },
          "execution_count": 156
        }
      ]
    },
    {
      "cell_type": "code",
      "metadata": {
        "id": "gB3-dovTpkHL"
      },
      "source": [
        "# Number of trees in random forest\n",
        "n_estimators = [int(x) for x in np.linspace(start = 1000, stop = 2000, num = 11)]\n",
        "# Number of features to consider at every split\n",
        "max_features = ['sqrt']\n",
        "# Maximum number of levels in tree\n",
        "max_depth = [int(x) for x in np.linspace(10, 200, num = 11)]\n",
        "max_depth.append(None)\n",
        "\n",
        "param_grid = {'n_estimators': n_estimators,\n",
        "               'max_features': max_features,\n",
        "               'max_depth': max_depth}\n",
        "              \n",
        "grid = GridSearchCV(RandomForestClassifier(), param_grid, cv=3, scoring='accuracy', refit='True', verbose=2)\n",
        "grid.fit(train_set_features, train_set_targets)\n",
        "grid.best_params_"
      ],
      "execution_count": null,
      "outputs": []
    },
    {
      "cell_type": "markdown",
      "metadata": {
        "id": "j8FG-JX8piGT"
      },
      "source": [
        "#### Metrics"
      ]
    },
    {
      "cell_type": "code",
      "metadata": {
        "id": "XJtetgIao5Wr"
      },
      "source": [
        "test_set_features = test_set.drop(columns=[\"label\"])\n",
        "test_set_targets = test_set[\"label\"]"
      ],
      "execution_count": 172,
      "outputs": []
    },
    {
      "cell_type": "code",
      "metadata": {
        "colab": {
          "base_uri": "https://localhost:8080/"
        },
        "id": "RoTGqt5ipVT9",
        "outputId": "292cba60-fc7e-47d1-e24d-d32b9dfad5bb"
      },
      "source": [
        "predictions = rand_forest.predict(test_set_features)\n",
        "mse = mean_squared_error(test_set_targets, predictions)\n",
        "mse"
      ],
      "execution_count": 173,
      "outputs": [
        {
          "output_type": "execute_result",
          "data": {
            "text/plain": [
              "0.7205128205128205"
            ]
          },
          "metadata": {
            "tags": []
          },
          "execution_count": 173
        }
      ]
    },
    {
      "cell_type": "code",
      "metadata": {
        "colab": {
          "base_uri": "https://localhost:8080/"
        },
        "id": "qDCPRe1dH9v0",
        "outputId": "45b33b4e-bca5-4798-ea5d-72ad10bb8983"
      },
      "source": [
        "accuracy = accuracy_score(test_set_targets, predictions)\n",
        "accuracy"
      ],
      "execution_count": 174,
      "outputs": [
        {
          "output_type": "execute_result",
          "data": {
            "text/plain": [
              "0.7615384615384615"
            ]
          },
          "metadata": {
            "tags": []
          },
          "execution_count": 174
        }
      ]
    },
    {
      "cell_type": "code",
      "metadata": {
        "colab": {
          "base_uri": "https://localhost:8080/"
        },
        "id": "ZW4uX1kFq3Yz",
        "outputId": "2f4c454b-1754-4e7e-e151-08c5dc33c3cc"
      },
      "source": [
        "print(classification_report(test_set_targets, predictions))"
      ],
      "execution_count": 175,
      "outputs": [
        {
          "output_type": "stream",
          "text": [
            "              precision    recall  f1-score   support\n",
            "\n",
            "           0       0.79      0.75      0.77       102\n",
            "           1       0.79      0.81      0.80       134\n",
            "           2       0.68      0.81      0.74       108\n",
            "           3       0.86      0.54      0.67        46\n",
            "\n",
            "    accuracy                           0.76       390\n",
            "   macro avg       0.78      0.73      0.74       390\n",
            "weighted avg       0.77      0.76      0.76       390\n",
            "\n"
          ],
          "name": "stdout"
        }
      ]
    },
    {
      "cell_type": "code",
      "metadata": {
        "colab": {
          "base_uri": "https://localhost:8080/",
          "height": 303
        },
        "id": "NbXDrUorpXgU",
        "outputId": "873d4b0e-876f-430a-9b42-3c53f0792841"
      },
      "source": [
        "cm = confusion_matrix(test_set_targets, predictions)\n",
        "\n",
        "plt.figure(figsize=(5,5))\n",
        "sns.heatmap(cm, annot=True, fmt=\".3f\", linewidths=.5, square = True, cmap = 'Blues_r')\n",
        "plt.show()"
      ],
      "execution_count": 160,
      "outputs": [
        {
          "output_type": "display_data",
          "data": {
            "image/png": "[encoded data removed]",
            "text/plain": [
              "<Figure size 360x360 with 2 Axes>"
            ]
          },
          "metadata": {
            "tags": [],
            "needs_background": "light"
          }
        }
      ]
    },
    {
      "cell_type": "code",
      "metadata": {
        "id": "Xsy7ilRUoaJp"
      },
      "source": [
        ""
      ],
      "execution_count": null,
      "outputs": []
    }
  ]
}