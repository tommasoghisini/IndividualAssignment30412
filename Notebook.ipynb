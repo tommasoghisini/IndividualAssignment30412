{
  "nbformat": 4,
  "nbformat_minor": 0,
  "metadata": {
    "colab": {
      "name": "Notebook.ipynb",
      "provenance": [],
      "collapsed_sections": [],
      "mount_file_id": "1ruKQrBEiHM0IhnOACRh3PNstzDsqWJwS",
      "authorship_tag": "ABX9TyNRfnRyADdy5W1q3XYnL49I",
      "include_colab_link": true
    },
    "kernelspec": {
      "name": "python3",
      "display_name": "Python 3"
    },
    "language_info": {
      "name": "python"
    }
  },
  "cells": [
    {
      "cell_type": "markdown",
      "metadata": {
        "id": "view-in-github",
        "colab_type": "text"
      },
      "source": [
        "<a href=\"https://colab.research.google.com/github/tommasoghisini/IndividualAssignment30412/blob/main/Notebook.ipynb\" target=\"_parent\"><img src=\"https://colab.research.google.com/assets/colab-badge.svg\" alt=\"Open In Colab\"/></a>"
      ]
    },
    {
      "cell_type": "markdown",
      "metadata": {
        "id": "5Wnm8CPXxqnI"
      },
      "source": [
        "# Individual Assignments - BEMACS 30412"
      ]
    },
    {
      "cell_type": "markdown",
      "metadata": {
        "id": "uPiTigKDyQyn"
      },
      "source": [
        "### Task Description"
      ]
    },
    {
      "cell_type": "markdown",
      "metadata": {
        "id": "Ocu8wUYnDg1Q"
      },
      "source": [
        "This dataset is composed of 1300 samples with 31 features each. The first column\n",
        "is the sample id. The second column in the dataset represents the label. There\n",
        "are 4 possible values for the labels. The remaining columns are numeric\n",
        "features, except for the last column which is categorical (with 3 categories).\n",
        "\n",
        "Notice that the classes are unbalanced: some labels are more frequent than\n",
        "others. You need to decide whether to take this into account, and if so how.\n",
        "\n",
        "Your task is the following: you should compare the performance of Logistic\n",
        "Regression (implemented by `sklearn.linear_model.LogisticRegression`) with that of\n",
        "a Random Forest (implemented by `sklearn.ensemble.RandomForestClassifier`). Try to\n",
        "optimize both algorithms' parameters and determine which one is best for this\n",
        "dataset. At the end of the analysis, you should have chosen an algorithm and its\n",
        "optimal set of parameters: write this choice explicitly in the conclusions of\n",
        "your notebook.\n",
        "\n",
        "Your notebook should detail the procedure you have used to choose the optimal\n",
        "parameters (graphs are a good idea when possible/sensible).\n",
        "\n",
        "The notebook will be evaluated not only based on the final results, but also on\n",
        "the procedure employed, which should balance practical considerations (one may\n",
        "not be able to exhaustively explore all possible combinations of the parameters)\n",
        "with the desire for achieving the best possible performance in the least amount\n",
        "of time.\n",
        "\n",
        "Bonus points may be assigned for particularly clean/nifty code and/or well-\n",
        "presented results.\n",
        "\n",
        "You are also free to attempt other strategies beyond the one in the assignment\n",
        "(which however is mandatory!)."
      ]
    },
    {
      "cell_type": "markdown",
      "metadata": {
        "id": "KEXE70CoHQcm"
      },
      "source": [
        "### Instructions (w/ or w/o Google Colaboratory)\n",
        "If the code is run locally, uncomment the following cell so that the dataset can be opened. \n",
        "Importing the dataset, using `os.getcwd()` to get current working directory and then finding the `.csv` in the `mldata_0003082046` subfolder"
      ]
    },
    {
      "cell_type": "code",
      "metadata": {
        "id": "uWA9N7L_HNC7"
      },
      "source": [
        "# data = pd.read_csv(os.getcwd()+\"/mldata_0003082046/mldata_0003082046.csv\")"
      ],
      "execution_count": 1,
      "outputs": []
    },
    {
      "cell_type": "markdown",
      "metadata": {
        "id": "I95nWq6eJQUI"
      },
      "source": [
        "If instead the code is run on Google Colaboratory use the cells in the next sections to mount the Drive."
      ]
    },
    {
      "cell_type": "code",
      "metadata": {
        "colab": {
          "base_uri": "https://localhost:8080/"
        },
        "id": "RshOWz16x8su",
        "outputId": "a44445bd-b5c4-4113-cc33-958e46101236"
      },
      "source": [
        "from google.colab import drive\n",
        "drive.mount('/content/drive')"
      ],
      "execution_count": 2,
      "outputs": [
        {
          "output_type": "stream",
          "text": [
            "Drive already mounted at /content/drive; to attempt to forcibly remount, call drive.mount(\"/content/drive\", force_remount=True).\n"
          ],
          "name": "stdout"
        }
      ]
    },
    {
      "cell_type": "markdown",
      "metadata": {
        "id": "u6TMMC2TGzaA"
      },
      "source": [
        "Common imports:"
      ]
    },
    {
      "cell_type": "code",
      "metadata": {
        "id": "x8i7Aa4vGyK6"
      },
      "source": [
        "import os\n",
        "import numpy as np\n",
        "import pandas as pd\n",
        "import matplotlib.pyplot as plt\n",
        "import seaborn as sns"
      ],
      "execution_count": 13,
      "outputs": []
    },
    {
      "cell_type": "markdown",
      "metadata": {
        "id": "pxF2_oQUEAtk"
      },
      "source": [
        "### Data Import and Visualization"
      ]
    },
    {
      "cell_type": "code",
      "metadata": {
        "id": "mJOWxv-qD7AM"
      },
      "source": [
        "data = pd.read_csv(\"/content/drive/My Drive/mldata_0003082046.csv\")"
      ],
      "execution_count": 4,
      "outputs": []
    },
    {
      "cell_type": "code",
      "metadata": {
        "colab": {
          "base_uri": "https://localhost:8080/",
          "height": 224
        },
        "id": "I4GdDKnJJ3hT",
        "outputId": "640b655c-87cf-4542-a9dc-0f4336e6630f"
      },
      "source": [
        "data.head()"
      ],
      "execution_count": 81,
      "outputs": [
        {
          "output_type": "execute_result",
          "data": {
            "text/html": [
              "<div>\n",
              "<style scoped>\n",
              "    .dataframe tbody tr th:only-of-type {\n",
              "        vertical-align: middle;\n",
              "    }\n",
              "\n",
              "    .dataframe tbody tr th {\n",
              "        vertical-align: top;\n",
              "    }\n",
              "\n",
              "    .dataframe thead th {\n",
              "        text-align: right;\n",
              "    }\n",
              "</style>\n",
              "<table border=\"1\" class=\"dataframe\">\n",
              "  <thead>\n",
              "    <tr style=\"text-align: right;\">\n",
              "      <th></th>\n",
              "      <th>label</th>\n",
              "      <th>feature_1</th>\n",
              "      <th>feature_2</th>\n",
              "      <th>feature_3</th>\n",
              "      <th>feature_4</th>\n",
              "      <th>feature_5</th>\n",
              "      <th>feature_6</th>\n",
              "      <th>feature_7</th>\n",
              "      <th>feature_8</th>\n",
              "      <th>feature_9</th>\n",
              "      <th>feature_10</th>\n",
              "      <th>feature_11</th>\n",
              "      <th>feature_12</th>\n",
              "      <th>feature_13</th>\n",
              "      <th>feature_14</th>\n",
              "      <th>feature_15</th>\n",
              "      <th>feature_16</th>\n",
              "      <th>feature_17</th>\n",
              "      <th>feature_18</th>\n",
              "      <th>feature_19</th>\n",
              "      <th>feature_20</th>\n",
              "      <th>feature_21</th>\n",
              "      <th>feature_22</th>\n",
              "      <th>feature_23</th>\n",
              "      <th>feature_24</th>\n",
              "      <th>feature_25</th>\n",
              "      <th>feature_26</th>\n",
              "      <th>feature_27</th>\n",
              "      <th>feature_28</th>\n",
              "      <th>feature_29</th>\n",
              "      <th>feature_30</th>\n",
              "      <th>categorical_feature_1</th>\n",
              "    </tr>\n",
              "  </thead>\n",
              "  <tbody>\n",
              "    <tr>\n",
              "      <th>0</th>\n",
              "      <td>2</td>\n",
              "      <td>1.317261</td>\n",
              "      <td>8.358737</td>\n",
              "      <td>0.012758</td>\n",
              "      <td>-5.217166</td>\n",
              "      <td>4.527006</td>\n",
              "      <td>-1.406090</td>\n",
              "      <td>-0.342143</td>\n",
              "      <td>0.348081</td>\n",
              "      <td>-3.012028</td>\n",
              "      <td>-0.030038</td>\n",
              "      <td>-0.765012</td>\n",
              "      <td>-0.443708</td>\n",
              "      <td>1.043832</td>\n",
              "      <td>-0.091771</td>\n",
              "      <td>1.176236</td>\n",
              "      <td>-0.880417</td>\n",
              "      <td>1.568592</td>\n",
              "      <td>-1.706071</td>\n",
              "      <td>-0.379981</td>\n",
              "      <td>-0.318466</td>\n",
              "      <td>-1.169511</td>\n",
              "      <td>1.356334</td>\n",
              "      <td>0.535998</td>\n",
              "      <td>-0.131434</td>\n",
              "      <td>2.329964</td>\n",
              "      <td>-0.684323</td>\n",
              "      <td>1.994169</td>\n",
              "      <td>1.934354</td>\n",
              "      <td>0.406818</td>\n",
              "      <td>-4.655728</td>\n",
              "      <td>C</td>\n",
              "    </tr>\n",
              "    <tr>\n",
              "      <th>1</th>\n",
              "      <td>0</td>\n",
              "      <td>7.340127</td>\n",
              "      <td>-3.555115</td>\n",
              "      <td>-1.402374</td>\n",
              "      <td>3.795976</td>\n",
              "      <td>2.906873</td>\n",
              "      <td>0.834305</td>\n",
              "      <td>-0.474424</td>\n",
              "      <td>0.379163</td>\n",
              "      <td>3.010350</td>\n",
              "      <td>1.085285</td>\n",
              "      <td>-2.457510</td>\n",
              "      <td>-2.252354</td>\n",
              "      <td>0.027248</td>\n",
              "      <td>4.244418</td>\n",
              "      <td>0.426144</td>\n",
              "      <td>0.242195</td>\n",
              "      <td>-1.388683</td>\n",
              "      <td>0.975758</td>\n",
              "      <td>-2.107836</td>\n",
              "      <td>-4.199434</td>\n",
              "      <td>7.458774</td>\n",
              "      <td>-1.238011</td>\n",
              "      <td>3.314475</td>\n",
              "      <td>0.830218</td>\n",
              "      <td>-3.315989</td>\n",
              "      <td>5.678754</td>\n",
              "      <td>0.868932</td>\n",
              "      <td>-5.463458</td>\n",
              "      <td>1.515240</td>\n",
              "      <td>-2.683021</td>\n",
              "      <td>C</td>\n",
              "    </tr>\n",
              "    <tr>\n",
              "      <th>2</th>\n",
              "      <td>3</td>\n",
              "      <td>1.669893</td>\n",
              "      <td>-0.156661</td>\n",
              "      <td>-0.443940</td>\n",
              "      <td>1.679536</td>\n",
              "      <td>2.275529</td>\n",
              "      <td>-0.015023</td>\n",
              "      <td>0.179829</td>\n",
              "      <td>1.107741</td>\n",
              "      <td>4.331329</td>\n",
              "      <td>-0.422255</td>\n",
              "      <td>-0.962114</td>\n",
              "      <td>-2.953092</td>\n",
              "      <td>-1.631581</td>\n",
              "      <td>-2.381880</td>\n",
              "      <td>0.093982</td>\n",
              "      <td>2.171647</td>\n",
              "      <td>2.086418</td>\n",
              "      <td>0.850709</td>\n",
              "      <td>-0.477933</td>\n",
              "      <td>-0.293551</td>\n",
              "      <td>1.296276</td>\n",
              "      <td>0.019973</td>\n",
              "      <td>2.025434</td>\n",
              "      <td>-1.539228</td>\n",
              "      <td>-0.124959</td>\n",
              "      <td>0.729042</td>\n",
              "      <td>-0.933219</td>\n",
              "      <td>1.335045</td>\n",
              "      <td>0.917811</td>\n",
              "      <td>4.190699</td>\n",
              "      <td>A</td>\n",
              "    </tr>\n",
              "    <tr>\n",
              "      <th>3</th>\n",
              "      <td>0</td>\n",
              "      <td>-0.623603</td>\n",
              "      <td>0.122445</td>\n",
              "      <td>0.813246</td>\n",
              "      <td>5.045944</td>\n",
              "      <td>-2.038502</td>\n",
              "      <td>0.568875</td>\n",
              "      <td>0.582684</td>\n",
              "      <td>-1.882058</td>\n",
              "      <td>0.380607</td>\n",
              "      <td>0.742172</td>\n",
              "      <td>2.260215</td>\n",
              "      <td>0.825563</td>\n",
              "      <td>0.804980</td>\n",
              "      <td>5.700392</td>\n",
              "      <td>0.493337</td>\n",
              "      <td>0.994722</td>\n",
              "      <td>3.863302</td>\n",
              "      <td>6.243809</td>\n",
              "      <td>-0.247652</td>\n",
              "      <td>0.429865</td>\n",
              "      <td>0.037361</td>\n",
              "      <td>0.926294</td>\n",
              "      <td>-1.737447</td>\n",
              "      <td>-0.713846</td>\n",
              "      <td>-1.130351</td>\n",
              "      <td>-3.553304</td>\n",
              "      <td>-0.667542</td>\n",
              "      <td>-0.218199</td>\n",
              "      <td>-4.047490</td>\n",
              "      <td>11.728424</td>\n",
              "      <td>C</td>\n",
              "    </tr>\n",
              "    <tr>\n",
              "      <th>4</th>\n",
              "      <td>1</td>\n",
              "      <td>0.848504</td>\n",
              "      <td>-6.271396</td>\n",
              "      <td>-1.764746</td>\n",
              "      <td>-0.718353</td>\n",
              "      <td>1.989970</td>\n",
              "      <td>-1.594145</td>\n",
              "      <td>-0.719358</td>\n",
              "      <td>3.330150</td>\n",
              "      <td>-0.141448</td>\n",
              "      <td>-4.353223</td>\n",
              "      <td>3.801571</td>\n",
              "      <td>-1.556320</td>\n",
              "      <td>0.222998</td>\n",
              "      <td>-1.515106</td>\n",
              "      <td>-0.270024</td>\n",
              "      <td>0.574702</td>\n",
              "      <td>-2.220203</td>\n",
              "      <td>-4.809569</td>\n",
              "      <td>-0.853683</td>\n",
              "      <td>-3.725578</td>\n",
              "      <td>-2.303464</td>\n",
              "      <td>-0.515869</td>\n",
              "      <td>2.030722</td>\n",
              "      <td>1.743685</td>\n",
              "      <td>-3.004193</td>\n",
              "      <td>-4.374810</td>\n",
              "      <td>0.306283</td>\n",
              "      <td>5.932732</td>\n",
              "      <td>3.316302</td>\n",
              "      <td>3.973014</td>\n",
              "      <td>B</td>\n",
              "    </tr>\n",
              "  </tbody>\n",
              "</table>\n",
              "</div>"
            ],
            "text/plain": [
              "   label  feature_1  feature_2  ...  feature_29  feature_30  categorical_feature_1\n",
              "0      2   1.317261   8.358737  ...    0.406818   -4.655728                      C\n",
              "1      0   7.340127  -3.555115  ...    1.515240   -2.683021                      C\n",
              "2      3   1.669893  -0.156661  ...    0.917811    4.190699                      A\n",
              "3      0  -0.623603   0.122445  ...   -4.047490   11.728424                      C\n",
              "4      1   0.848504  -6.271396  ...    3.316302    3.973014                      B\n",
              "\n",
              "[5 rows x 32 columns]"
            ]
          },
          "metadata": {
            "tags": []
          },
          "execution_count": 81
        }
      ]
    },
    {
      "cell_type": "markdown",
      "metadata": {
        "id": "p4wPmmWrPLiH"
      },
      "source": [
        "we drop the \"Unnamed: 0\" since it represents the id which are already added when the data is imported"
      ]
    },
    {
      "cell_type": "code",
      "metadata": {
        "id": "QDiVbUtxPYAB"
      },
      "source": [
        "data.drop(columns=[\"Unnamed: 0\"], inplace=True)"
      ],
      "execution_count": 6,
      "outputs": []
    },
    {
      "cell_type": "code",
      "metadata": {
        "colab": {
          "base_uri": "https://localhost:8080/"
        },
        "id": "nyHeI2w0K7c6",
        "outputId": "20191dd9-4842-41d8-d4f6-0142e362d1dc"
      },
      "source": [
        "data.info()"
      ],
      "execution_count": 7,
      "outputs": [
        {
          "output_type": "stream",
          "text": [
            "<class 'pandas.core.frame.DataFrame'>\n",
            "RangeIndex: 1300 entries, 0 to 1299\n",
            "Data columns (total 32 columns):\n",
            " #   Column                 Non-Null Count  Dtype  \n",
            "---  ------                 --------------  -----  \n",
            " 0   label                  1300 non-null   int64  \n",
            " 1   feature_1              1300 non-null   float64\n",
            " 2   feature_2              1300 non-null   float64\n",
            " 3   feature_3              1300 non-null   float64\n",
            " 4   feature_4              1300 non-null   float64\n",
            " 5   feature_5              1300 non-null   float64\n",
            " 6   feature_6              1300 non-null   float64\n",
            " 7   feature_7              1300 non-null   float64\n",
            " 8   feature_8              1300 non-null   float64\n",
            " 9   feature_9              1300 non-null   float64\n",
            " 10  feature_10             1300 non-null   float64\n",
            " 11  feature_11             1300 non-null   float64\n",
            " 12  feature_12             1300 non-null   float64\n",
            " 13  feature_13             1300 non-null   float64\n",
            " 14  feature_14             1300 non-null   float64\n",
            " 15  feature_15             1300 non-null   float64\n",
            " 16  feature_16             1300 non-null   float64\n",
            " 17  feature_17             1300 non-null   float64\n",
            " 18  feature_18             1300 non-null   float64\n",
            " 19  feature_19             1300 non-null   float64\n",
            " 20  feature_20             1300 non-null   float64\n",
            " 21  feature_21             1300 non-null   float64\n",
            " 22  feature_22             1300 non-null   float64\n",
            " 23  feature_23             1300 non-null   float64\n",
            " 24  feature_24             1300 non-null   float64\n",
            " 25  feature_25             1300 non-null   float64\n",
            " 26  feature_26             1300 non-null   float64\n",
            " 27  feature_27             1300 non-null   float64\n",
            " 28  feature_28             1300 non-null   float64\n",
            " 29  feature_29             1300 non-null   float64\n",
            " 30  feature_30             1300 non-null   float64\n",
            " 31  categorical_feature_1  1300 non-null   object \n",
            "dtypes: float64(30), int64(1), object(1)\n",
            "memory usage: 325.1+ KB\n"
          ],
          "name": "stdout"
        }
      ]
    },
    {
      "cell_type": "code",
      "metadata": {
        "colab": {
          "base_uri": "https://localhost:8080/"
        },
        "id": "DcIfhHfAK-Xj",
        "outputId": "86653536-9c2e-4c58-d372-3277bcce16c4"
      },
      "source": [
        "data[\"categorical_feature_1\"].value_counts()"
      ],
      "execution_count": 8,
      "outputs": [
        {
          "output_type": "execute_result",
          "data": {
            "text/plain": [
              "C    680\n",
              "A    435\n",
              "B    185\n",
              "Name: categorical_feature_1, dtype: int64"
            ]
          },
          "metadata": {
            "tags": []
          },
          "execution_count": 8
        }
      ]
    },
    {
      "cell_type": "code",
      "metadata": {
        "colab": {
          "base_uri": "https://localhost:8080/",
          "height": 279
        },
        "id": "blBh64RrqhBv",
        "outputId": "6b6848ab-019d-4ba9-9da0-883b5c97ecd7"
      },
      "source": [
        "sns.countplot(x=\"label\", data=data)\n",
        "plt.show()"
      ],
      "execution_count": 100,
      "outputs": [
        {
          "output_type": "display_data",
          "data": {
            "image/png": "[encoded data removed]",
            "text/plain": [
              "<Figure size 432x288 with 1 Axes>"
            ]
          },
          "metadata": {
            "tags": [],
            "needs_background": "light"
          }
        }
      ]
    },
    {
      "cell_type": "code",
      "metadata": {
        "colab": {
          "base_uri": "https://localhost:8080/",
          "height": 317
        },
        "id": "YHDMOlCrLMjg",
        "outputId": "d2f29451-eff2-441c-d5fb-49ca546b650f"
      },
      "source": [
        "data.describe()"
      ],
      "execution_count": 9,
      "outputs": [
        {
          "output_type": "execute_result",
          "data": {
            "text/html": [
              "<div>\n",
              "<style scoped>\n",
              "    .dataframe tbody tr th:only-of-type {\n",
              "        vertical-align: middle;\n",
              "    }\n",
              "\n",
              "    .dataframe tbody tr th {\n",
              "        vertical-align: top;\n",
              "    }\n",
              "\n",
              "    .dataframe thead th {\n",
              "        text-align: right;\n",
              "    }\n",
              "</style>\n",
              "<table border=\"1\" class=\"dataframe\">\n",
              "  <thead>\n",
              "    <tr style=\"text-align: right;\">\n",
              "      <th></th>\n",
              "      <th>label</th>\n",
              "      <th>feature_1</th>\n",
              "      <th>feature_2</th>\n",
              "      <th>feature_3</th>\n",
              "      <th>feature_4</th>\n",
              "      <th>feature_5</th>\n",
              "      <th>feature_6</th>\n",
              "      <th>feature_7</th>\n",
              "      <th>feature_8</th>\n",
              "      <th>feature_9</th>\n",
              "      <th>feature_10</th>\n",
              "      <th>feature_11</th>\n",
              "      <th>feature_12</th>\n",
              "      <th>feature_13</th>\n",
              "      <th>feature_14</th>\n",
              "      <th>feature_15</th>\n",
              "      <th>feature_16</th>\n",
              "      <th>feature_17</th>\n",
              "      <th>feature_18</th>\n",
              "      <th>feature_19</th>\n",
              "      <th>feature_20</th>\n",
              "      <th>feature_21</th>\n",
              "      <th>feature_22</th>\n",
              "      <th>feature_23</th>\n",
              "      <th>feature_24</th>\n",
              "      <th>feature_25</th>\n",
              "      <th>feature_26</th>\n",
              "      <th>feature_27</th>\n",
              "      <th>feature_28</th>\n",
              "      <th>feature_29</th>\n",
              "      <th>feature_30</th>\n",
              "    </tr>\n",
              "  </thead>\n",
              "  <tbody>\n",
              "    <tr>\n",
              "      <th>count</th>\n",
              "      <td>1300.000000</td>\n",
              "      <td>1300.000000</td>\n",
              "      <td>1300.000000</td>\n",
              "      <td>1300.000000</td>\n",
              "      <td>1300.000000</td>\n",
              "      <td>1300.000000</td>\n",
              "      <td>1300.000000</td>\n",
              "      <td>1300.000000</td>\n",
              "      <td>1300.000000</td>\n",
              "      <td>1300.000000</td>\n",
              "      <td>1300.000000</td>\n",
              "      <td>1300.000000</td>\n",
              "      <td>1300.000000</td>\n",
              "      <td>1300.000000</td>\n",
              "      <td>1300.000000</td>\n",
              "      <td>1300.000000</td>\n",
              "      <td>1300.000000</td>\n",
              "      <td>1300.000000</td>\n",
              "      <td>1300.000000</td>\n",
              "      <td>1300.000000</td>\n",
              "      <td>1300.000000</td>\n",
              "      <td>1300.000000</td>\n",
              "      <td>1300.000000</td>\n",
              "      <td>1300.000000</td>\n",
              "      <td>1300.000000</td>\n",
              "      <td>1300.000000</td>\n",
              "      <td>1300.000000</td>\n",
              "      <td>1300.000000</td>\n",
              "      <td>1300.000000</td>\n",
              "      <td>1300.000000</td>\n",
              "      <td>1300.000000</td>\n",
              "    </tr>\n",
              "    <tr>\n",
              "      <th>mean</th>\n",
              "      <td>1.328462</td>\n",
              "      <td>0.485006</td>\n",
              "      <td>-0.188724</td>\n",
              "      <td>0.064082</td>\n",
              "      <td>-0.209710</td>\n",
              "      <td>0.727291</td>\n",
              "      <td>0.136622</td>\n",
              "      <td>0.068518</td>\n",
              "      <td>-0.102001</td>\n",
              "      <td>-0.008617</td>\n",
              "      <td>-0.634683</td>\n",
              "      <td>-0.594289</td>\n",
              "      <td>-0.012555</td>\n",
              "      <td>-0.014205</td>\n",
              "      <td>0.832540</td>\n",
              "      <td>0.103182</td>\n",
              "      <td>0.155925</td>\n",
              "      <td>0.259276</td>\n",
              "      <td>-0.171561</td>\n",
              "      <td>0.117787</td>\n",
              "      <td>-0.035311</td>\n",
              "      <td>0.636862</td>\n",
              "      <td>0.107799</td>\n",
              "      <td>0.843886</td>\n",
              "      <td>0.013545</td>\n",
              "      <td>-0.168853</td>\n",
              "      <td>-0.617460</td>\n",
              "      <td>0.099473</td>\n",
              "      <td>-0.651911</td>\n",
              "      <td>0.324557</td>\n",
              "      <td>0.514403</td>\n",
              "    </tr>\n",
              "    <tr>\n",
              "      <th>std</th>\n",
              "      <td>0.980466</td>\n",
              "      <td>2.646078</td>\n",
              "      <td>5.770547</td>\n",
              "      <td>1.037813</td>\n",
              "      <td>2.664411</td>\n",
              "      <td>2.574071</td>\n",
              "      <td>1.024913</td>\n",
              "      <td>0.993728</td>\n",
              "      <td>2.544534</td>\n",
              "      <td>2.503960</td>\n",
              "      <td>2.609109</td>\n",
              "      <td>2.535811</td>\n",
              "      <td>2.529016</td>\n",
              "      <td>2.585610</td>\n",
              "      <td>2.575421</td>\n",
              "      <td>1.023611</td>\n",
              "      <td>0.997988</td>\n",
              "      <td>2.703089</td>\n",
              "      <td>5.046798</td>\n",
              "      <td>1.016914</td>\n",
              "      <td>2.708710</td>\n",
              "      <td>2.266136</td>\n",
              "      <td>1.001673</td>\n",
              "      <td>2.527775</td>\n",
              "      <td>0.993996</td>\n",
              "      <td>2.724501</td>\n",
              "      <td>2.614131</td>\n",
              "      <td>1.004445</td>\n",
              "      <td>2.443311</td>\n",
              "      <td>2.590095</td>\n",
              "      <td>6.249319</td>\n",
              "    </tr>\n",
              "    <tr>\n",
              "      <th>min</th>\n",
              "      <td>0.000000</td>\n",
              "      <td>-7.678960</td>\n",
              "      <td>-14.996620</td>\n",
              "      <td>-4.013138</td>\n",
              "      <td>-9.309243</td>\n",
              "      <td>-7.265789</td>\n",
              "      <td>-3.299237</td>\n",
              "      <td>-3.165439</td>\n",
              "      <td>-8.966481</td>\n",
              "      <td>-9.070622</td>\n",
              "      <td>-9.040763</td>\n",
              "      <td>-9.968950</td>\n",
              "      <td>-8.685565</td>\n",
              "      <td>-9.496122</td>\n",
              "      <td>-7.184087</td>\n",
              "      <td>-3.886036</td>\n",
              "      <td>-2.816371</td>\n",
              "      <td>-8.061023</td>\n",
              "      <td>-18.018036</td>\n",
              "      <td>-3.679458</td>\n",
              "      <td>-9.495588</td>\n",
              "      <td>-7.102880</td>\n",
              "      <td>-2.959264</td>\n",
              "      <td>-6.275450</td>\n",
              "      <td>-2.960987</td>\n",
              "      <td>-9.898176</td>\n",
              "      <td>-9.354425</td>\n",
              "      <td>-2.787296</td>\n",
              "      <td>-8.531747</td>\n",
              "      <td>-8.160880</td>\n",
              "      <td>-16.551214</td>\n",
              "    </tr>\n",
              "    <tr>\n",
              "      <th>25%</th>\n",
              "      <td>1.000000</td>\n",
              "      <td>-1.236314</td>\n",
              "      <td>-4.076933</td>\n",
              "      <td>-0.633110</td>\n",
              "      <td>-2.063790</td>\n",
              "      <td>-1.039900</td>\n",
              "      <td>-0.545490</td>\n",
              "      <td>-0.595175</td>\n",
              "      <td>-1.800105</td>\n",
              "      <td>-1.653267</td>\n",
              "      <td>-2.347375</td>\n",
              "      <td>-2.270984</td>\n",
              "      <td>-1.695332</td>\n",
              "      <td>-1.639605</td>\n",
              "      <td>-0.748003</td>\n",
              "      <td>-0.552662</td>\n",
              "      <td>-0.526040</td>\n",
              "      <td>-1.582098</td>\n",
              "      <td>-3.726317</td>\n",
              "      <td>-0.543231</td>\n",
              "      <td>-1.804817</td>\n",
              "      <td>-0.869444</td>\n",
              "      <td>-0.570739</td>\n",
              "      <td>-0.877840</td>\n",
              "      <td>-0.671149</td>\n",
              "      <td>-2.025140</td>\n",
              "      <td>-2.404387</td>\n",
              "      <td>-0.587660</td>\n",
              "      <td>-2.244586</td>\n",
              "      <td>-1.411985</td>\n",
              "      <td>-3.418540</td>\n",
              "    </tr>\n",
              "    <tr>\n",
              "      <th>50%</th>\n",
              "      <td>1.000000</td>\n",
              "      <td>0.525535</td>\n",
              "      <td>-0.278050</td>\n",
              "      <td>0.027111</td>\n",
              "      <td>-0.190993</td>\n",
              "      <td>0.707304</td>\n",
              "      <td>0.123436</td>\n",
              "      <td>0.052528</td>\n",
              "      <td>-0.131215</td>\n",
              "      <td>-0.037080</td>\n",
              "      <td>-0.568432</td>\n",
              "      <td>-0.740954</td>\n",
              "      <td>-0.064889</td>\n",
              "      <td>-0.075388</td>\n",
              "      <td>0.810113</td>\n",
              "      <td>0.095431</td>\n",
              "      <td>0.121553</td>\n",
              "      <td>0.363690</td>\n",
              "      <td>-0.170582</td>\n",
              "      <td>0.105159</td>\n",
              "      <td>0.059464</td>\n",
              "      <td>0.694182</td>\n",
              "      <td>0.099103</td>\n",
              "      <td>0.759531</td>\n",
              "      <td>0.018101</td>\n",
              "      <td>-0.201987</td>\n",
              "      <td>-0.665086</td>\n",
              "      <td>0.132621</td>\n",
              "      <td>-0.666219</td>\n",
              "      <td>0.224516</td>\n",
              "      <td>0.370101</td>\n",
              "    </tr>\n",
              "    <tr>\n",
              "      <th>75%</th>\n",
              "      <td>2.000000</td>\n",
              "      <td>2.193712</td>\n",
              "      <td>3.760076</td>\n",
              "      <td>0.754779</td>\n",
              "      <td>1.641627</td>\n",
              "      <td>2.441596</td>\n",
              "      <td>0.808366</td>\n",
              "      <td>0.724697</td>\n",
              "      <td>1.692596</td>\n",
              "      <td>1.668456</td>\n",
              "      <td>1.076399</td>\n",
              "      <td>1.106410</td>\n",
              "      <td>1.670692</td>\n",
              "      <td>1.696636</td>\n",
              "      <td>2.432573</td>\n",
              "      <td>0.787077</td>\n",
              "      <td>0.808226</td>\n",
              "      <td>2.044090</td>\n",
              "      <td>3.075266</td>\n",
              "      <td>0.772127</td>\n",
              "      <td>1.778254</td>\n",
              "      <td>2.065364</td>\n",
              "      <td>0.780220</td>\n",
              "      <td>2.549565</td>\n",
              "      <td>0.680766</td>\n",
              "      <td>1.700169</td>\n",
              "      <td>1.078330</td>\n",
              "      <td>0.802862</td>\n",
              "      <td>0.962626</td>\n",
              "      <td>1.977101</td>\n",
              "      <td>4.469548</td>\n",
              "    </tr>\n",
              "    <tr>\n",
              "      <th>max</th>\n",
              "      <td>3.000000</td>\n",
              "      <td>9.887883</td>\n",
              "      <td>15.953680</td>\n",
              "      <td>3.075108</td>\n",
              "      <td>9.664288</td>\n",
              "      <td>10.738788</td>\n",
              "      <td>3.258320</td>\n",
              "      <td>2.923708</td>\n",
              "      <td>9.733426</td>\n",
              "      <td>8.281138</td>\n",
              "      <td>7.786604</td>\n",
              "      <td>9.810725</td>\n",
              "      <td>9.601417</td>\n",
              "      <td>9.260673</td>\n",
              "      <td>10.145004</td>\n",
              "      <td>3.456458</td>\n",
              "      <td>3.156076</td>\n",
              "      <td>9.209270</td>\n",
              "      <td>17.493228</td>\n",
              "      <td>3.335998</td>\n",
              "      <td>9.758739</td>\n",
              "      <td>7.709641</td>\n",
              "      <td>3.293299</td>\n",
              "      <td>10.100711</td>\n",
              "      <td>3.446536</td>\n",
              "      <td>7.156686</td>\n",
              "      <td>9.335819</td>\n",
              "      <td>3.263826</td>\n",
              "      <td>6.220341</td>\n",
              "      <td>9.928803</td>\n",
              "      <td>25.588489</td>\n",
              "    </tr>\n",
              "  </tbody>\n",
              "</table>\n",
              "</div>"
            ],
            "text/plain": [
              "             label    feature_1  ...   feature_29   feature_30\n",
              "count  1300.000000  1300.000000  ...  1300.000000  1300.000000\n",
              "mean      1.328462     0.485006  ...     0.324557     0.514403\n",
              "std       0.980466     2.646078  ...     2.590095     6.249319\n",
              "min       0.000000    -7.678960  ...    -8.160880   -16.551214\n",
              "25%       1.000000    -1.236314  ...    -1.411985    -3.418540\n",
              "50%       1.000000     0.525535  ...     0.224516     0.370101\n",
              "75%       2.000000     2.193712  ...     1.977101     4.469548\n",
              "max       3.000000     9.887883  ...     9.928803    25.588489\n",
              "\n",
              "[8 rows x 31 columns]"
            ]
          },
          "metadata": {
            "tags": []
          },
          "execution_count": 9
        }
      ]
    },
    {
      "cell_type": "code",
      "metadata": {
        "colab": {
          "base_uri": "https://localhost:8080/",
          "height": 654
        },
        "id": "kTHylwIcLVx4",
        "outputId": "8da92eff-d42d-41b7-c1c4-26ae0557af98"
      },
      "source": [
        "plt.figure(figsize=(10,10), dpi=80)\n",
        "sns.boxplot(data=data, orient=\"h\")\n",
        "plt.show()"
      ],
      "execution_count": 57,
      "outputs": [
        {
          "output_type": "display_data",
          "data": {
            "image/png": "[encoded data removed]",
            "text/plain": [
              "<Figure size 800x800 with 1 Axes>"
            ]
          },
          "metadata": {
            "tags": [],
            "needs_background": "light"
          }
        }
      ]
    },
    {
      "cell_type": "code",
      "metadata": {
        "colab": {
          "base_uri": "https://localhost:8080/",
          "height": 457
        },
        "id": "EnCt0KR23yZs",
        "outputId": "1c20e0fc-4e91-4625-f7e4-ecdd3a2fdfde"
      },
      "source": [
        "plt.figure(figsize=(15,8), dpi=65)\n",
        "sns.kdeplot(data=data.drop(columns=[\"label\"]))\n",
        "plt.show()"
      ],
      "execution_count": 97,
      "outputs": [
        {
          "output_type": "display_data",
          "data": {
            "image/png": "[encoded data removed]",
            "text/plain": [
              "<Figure size 975x520 with 1 Axes>"
            ]
          },
          "metadata": {
            "tags": [],
            "needs_background": "light"
          }
        }
      ]
    },
    {
      "cell_type": "code",
      "metadata": {
        "colab": {
          "base_uri": "https://localhost:8080/",
          "height": 449
        },
        "id": "pH8bUxtZSsR-",
        "outputId": "99d7beff-d33e-464c-c1bd-32e3fd58859d"
      },
      "source": [
        "df = data\n",
        "plt.figure(figsize=(10,10), dpi=50)\n",
        "sns.heatmap(df.corr(), xticklabels=df.corr().columns, yticklabels=df.corr().columns, center=0, cmap=\"viridis\", annot=False)\n",
        "plt.show()"
      ],
      "execution_count": 99,
      "outputs": [
        {
          "output_type": "display_data",
          "data": {
            "image/png": "[encoded data removed]",
            "text/plain": [
              "<Figure size 500x500 with 2 Axes>"
            ]
          },
          "metadata": {
            "tags": [],
            "needs_background": "light"
          }
        }
      ]
    },
    {
      "cell_type": "markdown",
      "metadata": {
        "id": "CTVdpGWyvpFn"
      },
      "source": [
        "### Data Preparation"
      ]
    },
    {
      "cell_type": "code",
      "metadata": {
        "id": "db-m6SRS7Sy8"
      },
      "source": [
        ""
      ],
      "execution_count": null,
      "outputs": []
    },
    {
      "cell_type": "code",
      "metadata": {
        "id": "-elHGxZk7SjE"
      },
      "source": [
        ""
      ],
      "execution_count": null,
      "outputs": []
    },
    {
      "cell_type": "code",
      "metadata": {
        "id": "RxAEy4Ys8yZD"
      },
      "source": [
        "from sklearn.model_selection import train_test_split\n",
        "\n",
        "train_set, test_set = train_test_split(data, test_size=0.2, random_state=42, shuffle=True)"
      ],
      "execution_count": 118,
      "outputs": []
    },
    {
      "cell_type": "code",
      "metadata": {
        "colab": {
          "base_uri": "https://localhost:8080/",
          "height": 279
        },
        "id": "cXOZr9X_87pN",
        "outputId": "b3acf1d9-1514-4760-acee-6aee11ef4810"
      },
      "source": [
        "sns.countplot(x=\"label\", data=str_train_set)\n",
        "plt.show()"
      ],
      "execution_count": 112,
      "outputs": [
        {
          "output_type": "display_data",
          "data": {
            "image/png": "[encoded data removed]",
            "text/plain": [
              "<Figure size 432x288 with 1 Axes>"
            ]
          },
          "metadata": {
            "tags": [],
            "needs_background": "light"
          }
        }
      ]
    },
    {
      "cell_type": "code",
      "metadata": {
        "colab": {
          "base_uri": "https://localhost:8080/",
          "height": 224
        },
        "id": "0Adrawx_yjBh",
        "outputId": "c1244288-d0cf-447d-ac2d-7719c4b47d17"
      },
      "source": [
        "train_set.head()"
      ],
      "execution_count": 78,
      "outputs": [
        {
          "output_type": "execute_result",
          "data": {
            "text/html": [
              "<div>\n",
              "<style scoped>\n",
              "    .dataframe tbody tr th:only-of-type {\n",
              "        vertical-align: middle;\n",
              "    }\n",
              "\n",
              "    .dataframe tbody tr th {\n",
              "        vertical-align: top;\n",
              "    }\n",
              "\n",
              "    .dataframe thead th {\n",
              "        text-align: right;\n",
              "    }\n",
              "</style>\n",
              "<table border=\"1\" class=\"dataframe\">\n",
              "  <thead>\n",
              "    <tr style=\"text-align: right;\">\n",
              "      <th></th>\n",
              "      <th>label</th>\n",
              "      <th>feature_1</th>\n",
              "      <th>feature_2</th>\n",
              "      <th>feature_3</th>\n",
              "      <th>feature_4</th>\n",
              "      <th>feature_5</th>\n",
              "      <th>feature_6</th>\n",
              "      <th>feature_7</th>\n",
              "      <th>feature_8</th>\n",
              "      <th>feature_9</th>\n",
              "      <th>feature_10</th>\n",
              "      <th>feature_11</th>\n",
              "      <th>feature_12</th>\n",
              "      <th>feature_13</th>\n",
              "      <th>feature_14</th>\n",
              "      <th>feature_15</th>\n",
              "      <th>feature_16</th>\n",
              "      <th>feature_17</th>\n",
              "      <th>feature_18</th>\n",
              "      <th>feature_19</th>\n",
              "      <th>feature_20</th>\n",
              "      <th>feature_21</th>\n",
              "      <th>feature_22</th>\n",
              "      <th>feature_23</th>\n",
              "      <th>feature_24</th>\n",
              "      <th>feature_25</th>\n",
              "      <th>feature_26</th>\n",
              "      <th>feature_27</th>\n",
              "      <th>feature_28</th>\n",
              "      <th>feature_29</th>\n",
              "      <th>feature_30</th>\n",
              "      <th>categorical_feature_1</th>\n",
              "    </tr>\n",
              "  </thead>\n",
              "  <tbody>\n",
              "    <tr>\n",
              "      <th>10</th>\n",
              "      <td>1</td>\n",
              "      <td>-0.889621</td>\n",
              "      <td>6.009574</td>\n",
              "      <td>1.923871</td>\n",
              "      <td>-0.019785</td>\n",
              "      <td>1.593317</td>\n",
              "      <td>-0.261925</td>\n",
              "      <td>-0.905337</td>\n",
              "      <td>3.304186</td>\n",
              "      <td>-3.085617</td>\n",
              "      <td>-2.922054</td>\n",
              "      <td>-4.704433</td>\n",
              "      <td>0.606734</td>\n",
              "      <td>-0.299221</td>\n",
              "      <td>1.388611</td>\n",
              "      <td>0.031639</td>\n",
              "      <td>2.824238</td>\n",
              "      <td>4.897274</td>\n",
              "      <td>3.877995</td>\n",
              "      <td>-0.057137</td>\n",
              "      <td>0.124063</td>\n",
              "      <td>1.201218</td>\n",
              "      <td>-0.647808</td>\n",
              "      <td>0.750846</td>\n",
              "      <td>-0.566419</td>\n",
              "      <td>-0.314239</td>\n",
              "      <td>0.308686</td>\n",
              "      <td>0.944837</td>\n",
              "      <td>-2.420900</td>\n",
              "      <td>0.654380</td>\n",
              "      <td>4.700036</td>\n",
              "      <td>B</td>\n",
              "    </tr>\n",
              "    <tr>\n",
              "      <th>147</th>\n",
              "      <td>2</td>\n",
              "      <td>-1.256369</td>\n",
              "      <td>8.326343</td>\n",
              "      <td>1.124093</td>\n",
              "      <td>-0.778818</td>\n",
              "      <td>3.385235</td>\n",
              "      <td>2.311213</td>\n",
              "      <td>1.201060</td>\n",
              "      <td>-4.817297</td>\n",
              "      <td>0.553464</td>\n",
              "      <td>-0.778903</td>\n",
              "      <td>1.037603</td>\n",
              "      <td>5.871507</td>\n",
              "      <td>-3.465097</td>\n",
              "      <td>1.969175</td>\n",
              "      <td>2.099263</td>\n",
              "      <td>1.452395</td>\n",
              "      <td>-2.311585</td>\n",
              "      <td>-5.587314</td>\n",
              "      <td>-0.724094</td>\n",
              "      <td>4.328747</td>\n",
              "      <td>-2.296662</td>\n",
              "      <td>-0.701330</td>\n",
              "      <td>-0.488543</td>\n",
              "      <td>0.355814</td>\n",
              "      <td>0.567757</td>\n",
              "      <td>-3.150045</td>\n",
              "      <td>0.399804</td>\n",
              "      <td>-0.782497</td>\n",
              "      <td>-1.071426</td>\n",
              "      <td>-1.249328</td>\n",
              "      <td>C</td>\n",
              "    </tr>\n",
              "    <tr>\n",
              "      <th>342</th>\n",
              "      <td>2</td>\n",
              "      <td>2.928364</td>\n",
              "      <td>-0.630972</td>\n",
              "      <td>1.004297</td>\n",
              "      <td>1.662963</td>\n",
              "      <td>2.635646</td>\n",
              "      <td>-0.118664</td>\n",
              "      <td>-0.225655</td>\n",
              "      <td>-5.156834</td>\n",
              "      <td>3.115140</td>\n",
              "      <td>2.723610</td>\n",
              "      <td>-2.197653</td>\n",
              "      <td>0.849562</td>\n",
              "      <td>1.646520</td>\n",
              "      <td>0.469866</td>\n",
              "      <td>1.832211</td>\n",
              "      <td>-0.457927</td>\n",
              "      <td>-2.605939</td>\n",
              "      <td>-4.917446</td>\n",
              "      <td>0.310920</td>\n",
              "      <td>3.747199</td>\n",
              "      <td>0.807206</td>\n",
              "      <td>0.774516</td>\n",
              "      <td>0.136627</td>\n",
              "      <td>-0.149031</td>\n",
              "      <td>2.109856</td>\n",
              "      <td>-0.952795</td>\n",
              "      <td>-1.140951</td>\n",
              "      <td>-0.490577</td>\n",
              "      <td>0.065929</td>\n",
              "      <td>-0.779571</td>\n",
              "      <td>C</td>\n",
              "    </tr>\n",
              "    <tr>\n",
              "      <th>999</th>\n",
              "      <td>0</td>\n",
              "      <td>6.600261</td>\n",
              "      <td>-2.711366</td>\n",
              "      <td>1.843846</td>\n",
              "      <td>-0.375314</td>\n",
              "      <td>-2.659735</td>\n",
              "      <td>0.072717</td>\n",
              "      <td>-0.231311</td>\n",
              "      <td>0.297827</td>\n",
              "      <td>5.066246</td>\n",
              "      <td>-1.122636</td>\n",
              "      <td>-1.044213</td>\n",
              "      <td>0.333060</td>\n",
              "      <td>2.060402</td>\n",
              "      <td>6.348687</td>\n",
              "      <td>-2.305675</td>\n",
              "      <td>-0.560077</td>\n",
              "      <td>-2.612710</td>\n",
              "      <td>-0.029993</td>\n",
              "      <td>0.498225</td>\n",
              "      <td>1.547528</td>\n",
              "      <td>-0.530242</td>\n",
              "      <td>0.546568</td>\n",
              "      <td>4.164480</td>\n",
              "      <td>0.466510</td>\n",
              "      <td>-0.840289</td>\n",
              "      <td>2.567236</td>\n",
              "      <td>-1.707263</td>\n",
              "      <td>-4.049919</td>\n",
              "      <td>-2.296463</td>\n",
              "      <td>-2.421569</td>\n",
              "      <td>C</td>\n",
              "    </tr>\n",
              "    <tr>\n",
              "      <th>811</th>\n",
              "      <td>0</td>\n",
              "      <td>2.277201</td>\n",
              "      <td>-8.533304</td>\n",
              "      <td>0.143454</td>\n",
              "      <td>-5.795213</td>\n",
              "      <td>-3.642429</td>\n",
              "      <td>0.203138</td>\n",
              "      <td>-0.610715</td>\n",
              "      <td>1.780364</td>\n",
              "      <td>1.257109</td>\n",
              "      <td>-4.163165</td>\n",
              "      <td>-3.505232</td>\n",
              "      <td>-3.673739</td>\n",
              "      <td>6.115385</td>\n",
              "      <td>6.747973</td>\n",
              "      <td>-0.116501</td>\n",
              "      <td>0.794380</td>\n",
              "      <td>2.142950</td>\n",
              "      <td>6.050763</td>\n",
              "      <td>0.004285</td>\n",
              "      <td>2.670335</td>\n",
              "      <td>3.330833</td>\n",
              "      <td>-1.125840</td>\n",
              "      <td>1.966934</td>\n",
              "      <td>1.611298</td>\n",
              "      <td>-8.024961</td>\n",
              "      <td>-2.097871</td>\n",
              "      <td>-0.660801</td>\n",
              "      <td>2.689181</td>\n",
              "      <td>1.306418</td>\n",
              "      <td>16.008820</td>\n",
              "      <td>C</td>\n",
              "    </tr>\n",
              "  </tbody>\n",
              "</table>\n",
              "</div>"
            ],
            "text/plain": [
              "     label  feature_1  feature_2  ...  feature_29  feature_30  categorical_feature_1\n",
              "10       1  -0.889621   6.009574  ...    0.654380    4.700036                      B\n",
              "147      2  -1.256369   8.326343  ...   -1.071426   -1.249328                      C\n",
              "342      2   2.928364  -0.630972  ...    0.065929   -0.779571                      C\n",
              "999      0   6.600261  -2.711366  ...   -2.296463   -2.421569                      C\n",
              "811      0   2.277201  -8.533304  ...    1.306418   16.008820                      C\n",
              "\n",
              "[5 rows x 32 columns]"
            ]
          },
          "metadata": {
            "tags": []
          },
          "execution_count": 78
        }
      ]
    },
    {
      "cell_type": "code",
      "metadata": {
        "colab": {
          "base_uri": "https://localhost:8080/"
        },
        "id": "qlFC3AdL_NUy",
        "outputId": "5ca710ec-a633-4b0b-cc32-4ed295495560"
      },
      "source": [
        "test_label=test_set[\"label\"]\n",
        "test_set.drop(columns=[\"label\"], inplace=True)"
      ],
      "execution_count": 121,
      "outputs": [
        {
          "output_type": "stream",
          "text": [
            "/usr/local/lib/python3.7/dist-packages/pandas/core/frame.py:4174: SettingWithCopyWarning: \n",
            "A value is trying to be set on a copy of a slice from a DataFrame\n",
            "\n",
            "See the caveats in the documentation: https://pandas.pydata.org/pandas-docs/stable/user_guide/indexing.html#returning-a-view-versus-a-copy\n",
            "  errors=errors,\n"
          ],
          "name": "stderr"
        }
      ]
    },
    {
      "cell_type": "code",
      "metadata": {
        "id": "_IK8Bvu1-fK6"
      },
      "source": [
        "### Logistic Regression"
      ],
      "execution_count": 113,
      "outputs": []
    },
    {
      "cell_type": "code",
      "metadata": {
        "colab": {
          "base_uri": "https://localhost:8080/",
          "height": 198
        },
        "id": "zw_jpMOjylGB",
        "outputId": "a8aafa51-2f9b-4571-9937-dd045446c6b0"
      },
      "source": [
        "from sklearn.linear_model import LogisticRegression\n",
        "log_reg = LogisticRegression(solver=\"lbfgs\", random_state=42)\n",
        "log_reg.fit()"
      ],
      "execution_count": 114,
      "outputs": [
        {
          "output_type": "error",
          "ename": "NameError",
          "evalue": "ignored",
          "traceback": [
            "\u001b[0;31m---------------------------------------------------------------------------\u001b[0m",
            "\u001b[0;31mNameError\u001b[0m                                 Traceback (most recent call last)",
            "\u001b[0;32m<ipython-input-114-a166ad3a54c3>\u001b[0m in \u001b[0;36m<module>\u001b[0;34m()\u001b[0m\n\u001b[1;32m      1\u001b[0m \u001b[0;32mfrom\u001b[0m \u001b[0msklearn\u001b[0m\u001b[0;34m.\u001b[0m\u001b[0mlinear_model\u001b[0m \u001b[0;32mimport\u001b[0m \u001b[0mLogisticRegression\u001b[0m\u001b[0;34m\u001b[0m\u001b[0;34m\u001b[0m\u001b[0m\n\u001b[1;32m      2\u001b[0m \u001b[0mlog_reg\u001b[0m \u001b[0;34m=\u001b[0m \u001b[0mLogisticRegression\u001b[0m\u001b[0;34m(\u001b[0m\u001b[0msolver\u001b[0m\u001b[0;34m=\u001b[0m\u001b[0;34m\"lbfgs\"\u001b[0m\u001b[0;34m,\u001b[0m \u001b[0mrandom_state\u001b[0m\u001b[0;34m=\u001b[0m\u001b[0;36m42\u001b[0m\u001b[0;34m)\u001b[0m\u001b[0;34m\u001b[0m\u001b[0;34m\u001b[0m\u001b[0m\n\u001b[0;32m----> 3\u001b[0;31m \u001b[0mlog_reg\u001b[0m\u001b[0;34m.\u001b[0m\u001b[0mfit\u001b[0m\u001b[0;34m(\u001b[0m\u001b[0mX\u001b[0m\u001b[0;34m,\u001b[0m \u001b[0my\u001b[0m\u001b[0;34m)\u001b[0m\u001b[0;34m\u001b[0m\u001b[0;34m\u001b[0m\u001b[0m\n\u001b[0m",
            "\u001b[0;31mNameError\u001b[0m: name 'X' is not defined"
          ]
        }
      ]
    },
    {
      "cell_type": "code",
      "metadata": {
        "id": "bUXA6fjc-htg"
      },
      "source": [
        ""
      ],
      "execution_count": null,
      "outputs": []
    }
  ]
}